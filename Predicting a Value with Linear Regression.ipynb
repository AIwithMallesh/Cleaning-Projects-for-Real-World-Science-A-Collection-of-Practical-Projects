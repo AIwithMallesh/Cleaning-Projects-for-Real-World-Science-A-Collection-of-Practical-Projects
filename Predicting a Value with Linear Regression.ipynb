{
 "cells": [
  {
   "cell_type": "code",
   "execution_count": 1,
   "id": "68f35ab9-09e2-4f40-a364-ed978e388e39",
   "metadata": {},
   "outputs": [],
   "source": [
    "#Predicting a Value with Linear Regression"
   ]
  },
  {
   "cell_type": "code",
   "execution_count": null,
   "id": "be3e0cb8-b7b6-4458-9527-dc262215e66a",
   "metadata": {},
   "outputs": [],
   "source": []
  },
  {
   "cell_type": "code",
   "execution_count": 2,
   "id": "787c8d07-0526-40d3-8911-55a5dd53d980",
   "metadata": {},
   "outputs": [
    {
     "name": "stdout",
     "output_type": "stream",
     "text": [
      "The model's Mean Squared Error on the training data is: 2859.70\n",
      "Actual value: 151.0\n",
      "Predicted value: 206.11667724510562\n"
     ]
    }
   ],
   "source": [
    "from sklearn.datasets import load_diabetes\n",
    "from sklearn.linear_model import LinearRegression\n",
    "from sklearn.metrics import mean_squared_error\n",
    "\n",
    "# 1. Load the data\n",
    "diabetes = load_diabetes()\n",
    "X = diabetes.data\n",
    "y = diabetes.target\n",
    "\n",
    "# 2. Initialize the model\n",
    "lr = LinearRegression()\n",
    "\n",
    "# 3. Train the model\n",
    "lr.fit(X, y)\n",
    "\n",
    "# 4. Make predictions on the training data\n",
    "y_pred = lr.predict(X)\n",
    "\n",
    "# 5. Evaluate the model\n",
    "# For regression, a common metric is Mean Squared Error (MSE).\n",
    "# Lower is better. We will dive deeper into metrics later.\n",
    "mse = mean_squared_error(y, y_pred)\n",
    "print(f\"The model's Mean Squared Error on the training data is: {mse:.2f}\")\n",
    "\n",
    "# Let's look at one prediction\n",
    "print(f\"Actual value: {y[0]}\")\n",
    "print(f\"Predicted value: {y_pred[0]}\")"
   ]
  }
 ],
 "metadata": {
  "kernelspec": {
   "display_name": "Python 3 (ipykernel)",
   "language": "python",
   "name": "python3"
  },
  "language_info": {
   "codemirror_mode": {
    "name": "ipython",
    "version": 3
   },
   "file_extension": ".py",
   "mimetype": "text/x-python",
   "name": "python",
   "nbconvert_exporter": "python",
   "pygments_lexer": "ipython3",
   "version": "3.13.5"
  }
 },
 "nbformat": 4,
 "nbformat_minor": 5
}
