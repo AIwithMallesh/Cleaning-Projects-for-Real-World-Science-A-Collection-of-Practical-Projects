{
 "cells": [
  {
   "cell_type": "code",
   "execution_count": 1,
   "id": "073e13f6-3b06-40c0-b990-8822cbffae1c",
   "metadata": {},
   "outputs": [],
   "source": [
    "#Data"
   ]
  },
  {
   "cell_type": "code",
   "execution_count": 16,
   "id": "eb328d63-d2d0-4c8d-bdc5-63b20527dc67",
   "metadata": {},
   "outputs": [
    {
     "name": "stdout",
     "output_type": "stream",
     "text": [
      "Messy Dataset:\n",
      "   customer_id            name                    email  age          city  \\\n",
      "0            1      John Smith           john@email.com   32      New York   \n",
      "1            2        Jane Doe     jane.doe@company.com   28   Los Angeles   \n",
      "2            3     Bob Johnson            bob@email.com   45       Chicago   \n",
      "3            4     Alice Brown                     None   29       Houston   \n",
      "4            5  CHARLIE WILSON        charlie@email.com   52      NEW YORK   \n",
      "5            1      John Smith           john@email.com   32      New York   \n",
      "6            6       David Lee          david@email.com   38       Phoenix   \n",
      "7            7     emily davis  emily.davis@company.com   25       Chicago   \n",
      "8            8    Frank Miller          frank@email.com   41  Philadelphia   \n",
      "9            9    Grace Wilson          grace@email.com  150         Miami   \n",
      "\n",
      "   salary signup_date           phone  \n",
      "0   50000  2022-01-15  (555) 123-4567  \n",
      "1   75000  2021-03-22    555-987-6543  \n",
      "2   60000  2023-05-10    555.456.7890  \n",
      "3   55000  2022-11-30  (555) 234-5678  \n",
      "4   80000  2021-07-18    555-345-6789  \n",
      "5   50000  2022-01-15  (555) 123-4567  \n",
      "6   70000  2023-02-14  (555) 876-5432  \n",
      "7   65000  2022-09-05    555-765-4321  \n",
      "8   72000  2021-12-20  (555) 543-2109  \n",
      "9   68000  2024-01-01   invalid-phone  \n"
     ]
    }
   ],
   "source": [
    "import pandas as pd\n",
    "import numpy as np\n",
    "\n",
    "# Create a messy dataset example\n",
    "messy_data = {\n",
    "    'customer_id': [1, 2, 3, 4, 5, 1, 6, 7, 8, 9],\n",
    "    'name': [\n",
    "        'John Smith', 'Jane Doe', 'Bob Johnson', 'Alice Brown',\n",
    "        'CHARLIE WILSON', 'John Smith', 'David Lee', 'emily davis',\n",
    "        'Frank Miller', 'Grace Wilson'\n",
    "    ],\n",
    "    'email': [\n",
    "        'john@email.com', 'jane.doe@company.com', 'bob@email.com',\n",
    "        None, 'charlie@email.com', 'john@email.com', 'david@email.com',\n",
    "        'emily.davis@company.com', 'frank@email.com', 'grace@email.com'\n",
    "    ],\n",
    "    'age': [32, 28, 45, 29, 52, 32, 38, 25, 41, 150],\n",
    "    'city': [\n",
    "        'New York', 'Los Angeles', 'Chicago', 'Houston',\n",
    "        'NEW YORK', 'New York', 'Phoenix', 'Chicago',\n",
    "        'Philadelphia', 'Miami'\n",
    "    ],\n",
    "    'salary': [50000, 75000, 60000, 55000, 80000, 50000, 70000, 65000, 72000, 68000],\n",
    "    'signup_date': [\n",
    "        '2022-01-15', '2021-03-22', '2023-05-10', '2022-11-30',\n",
    "        '2021-07-18', '2022-01-15', '2023-02-14', '2022-09-05',\n",
    "        '2021-12-20', '2024-01-01'  # Note: last one is a future date\n",
    "    ],\n",
    "    'phone': [\n",
    "        '(555) 123-4567', '555-987-6543', '555.456.7890',\n",
    "        '(555) 234-5678', '555-345-6789', '(555) 123-4567',\n",
    "        '(555) 876-5432', '555-765-4321', '(555) 543-2109', 'invalid-phone'\n",
    "    ]\n",
    "}\n",
    "\n",
    "# Create DataFrame\n",
    "messy_df = pd.DataFrame(messy_data)\n",
    "\n",
    "# Display the messy dataset\n",
    "print(\"Messy Dataset:\")\n",
    "print(messy_df)\n"
   ]
  },
  {
   "cell_type": "code",
   "execution_count": 10,
   "id": "36aaec00-e5bc-4a8b-a27a-470e908cc148",
   "metadata": {},
   "outputs": [],
   "source": [
    "#Missing Values"
   ]
  },
  {
   "cell_type": "code",
   "execution_count": 11,
   "id": "0bdb4d63-4f61-487d-bce2-add5be3cf83f",
   "metadata": {},
   "outputs": [
    {
     "name": "stdout",
     "output_type": "stream",
     "text": [
      "Missing Values:\n",
      "customer_id    0\n",
      "name           0\n",
      "email          1\n",
      "age            0\n",
      "city           0\n",
      "salary         0\n",
      "signup_date    0\n",
      "phone          0\n",
      "dtype: int64\n",
      "\n",
      "\n",
      "Missing Values Percentage:\n",
      "customer_id     0.0\n",
      "name            0.0\n",
      "email          10.0\n",
      "age             0.0\n",
      "city            0.0\n",
      "salary          0.0\n",
      "signup_date     0.0\n",
      "phone           0.0\n",
      "dtype: float64\n"
     ]
    }
   ],
   "source": [
    "# Check for missing values\n",
    "print(\"Missing Values:\")\n",
    "print(messy_df.isnull().sum())\n",
    "print(\"\\n\")\n",
    "\n",
    "# Percentage of missing values\n",
    "print(\"Missing Values Percentage:\")\n",
    "print((messy_df.isnull().sum() / len(messy_df)) * 100)\n"
   ]
  },
  {
   "cell_type": "code",
   "execution_count": null,
   "id": "3cf2d74c-f078-4802-a4f9-44f4719e8040",
   "metadata": {},
   "outputs": [],
   "source": [
    "#Check for duplicates"
   ]
  },
  {
   "cell_type": "code",
   "execution_count": 12,
   "id": "23020a69-e786-483c-9577-2e99777000eb",
   "metadata": {},
   "outputs": [
    {
     "name": "stdout",
     "output_type": "stream",
     "text": [
      "Duplicate Rows:\n",
      "1\n",
      "\n",
      "\n",
      "Duplicate customer_id values:\n",
      "1\n"
     ]
    }
   ],
   "source": [
    "# Check for duplicate rows\n",
    "print(\"Duplicate Rows:\")\n",
    "print(messy_df.duplicated().sum())\n",
    "print(\"\\n\")\n",
    "\n",
    "# Check for duplicates based on specific columns (customer_id)\n",
    "print(\"Duplicate customer_id values:\")\n",
    "print(messy_df['customer_id'].duplicated().sum())\n"
   ]
  },
  {
   "cell_type": "code",
   "execution_count": null,
   "id": "8a1d20e3-e10a-4066-b1a1-b07a77aab0c1",
   "metadata": {},
   "outputs": [],
   "source": [
    "#Inconsistent Text Formatting"
   ]
  },
  {
   "cell_type": "code",
   "execution_count": 13,
   "id": "dfa774b0-635b-4846-9422-0957abcc215c",
   "metadata": {},
   "outputs": [
    {
     "name": "stdout",
     "output_type": "stream",
     "text": [
      "Unique name formats (first 10):\n",
      "['John Smith' 'Jane Doe' 'Bob Johnson' 'Alice Brown' 'CHARLIE WILSON'\n",
      " 'David Lee' 'emily davis' 'Frank Miller' 'Grace Wilson']\n",
      "\n",
      "\n",
      "Unique city formats:\n",
      "['New York' 'Los Angeles' 'Chicago' 'Houston' 'NEW YORK' 'Phoenix'\n",
      " 'Philadelphia' 'Miami']\n"
     ]
    }
   ],
   "source": [
    "# Check for inconsistent casing in 'name' and 'city' columns\n",
    "print(\"Unique name formats (first 10):\")\n",
    "print(messy_df['name'].unique()[:10])\n",
    "print(\"\\n\")\n",
    "\n",
    "print(\"Unique city formats:\")\n",
    "print(messy_df['city'].unique())\n"
   ]
  },
  {
   "cell_type": "code",
   "execution_count": null,
   "id": "c3b61b68-963d-49ee-a8b6-8262802f1371",
   "metadata": {},
   "outputs": [],
   "source": [
    "#Invalid Values"
   ]
  },
  {
   "cell_type": "code",
   "execution_count": 14,
   "id": "400c159a-3b1e-4f3a-a698-a3bedef4f4d4",
   "metadata": {},
   "outputs": [
    {
     "name": "stdout",
     "output_type": "stream",
     "text": [
      "Age statistics:\n",
      "count     10.000000\n",
      "mean      47.200000\n",
      "std       37.078895\n",
      "min       25.000000\n",
      "25%       29.750000\n",
      "50%       35.000000\n",
      "75%       44.000000\n",
      "max      150.000000\n",
      "Name: age, dtype: float64\n",
      "\n",
      "\n",
      "Invalid ages:\n",
      "           name  age\n",
      "9  Grace Wilson  150\n"
     ]
    }
   ],
   "source": [
    "# Check for invalid ages (outside reasonable range)\n",
    "print(\"Age statistics:\")\n",
    "print(messy_df['age'].describe())\n",
    "print(\"\\n\")\n",
    "\n",
    "# Identify invalid ages\n",
    "invalid_ages = messy_df[(messy_df['age'] < 18) | (messy_df['age'] > 100)]\n",
    "print(\"Invalid ages:\")\n",
    "print(invalid_ages[['name', 'age']])\n"
   ]
  },
  {
   "cell_type": "code",
   "execution_count": 17,
   "id": "04b5bb25-df72-40a7-8cb6-db822b6c3a60",
   "metadata": {},
   "outputs": [],
   "source": [
    "#Feature dates"
   ]
  },
  {
   "cell_type": "code",
   "execution_count": 19,
   "id": "d0db3dbb-b0b0-40be-a541-6e3fc3e6c4b4",
   "metadata": {},
   "outputs": [
    {
     "name": "stdout",
     "output_type": "stream",
     "text": [
      "Future signup dates:\n",
      "Empty DataFrame\n",
      "Columns: [name, signup_date]\n",
      "Index: []\n"
     ]
    }
   ],
   "source": [
    "# Convert to datetime and check for future dates\n",
    "messy_df['signup_date'] = pd.to_datetime(messy_df['signup_date'])\n",
    "\n",
    "# Identify future dates (after current date)\n",
    "future_dates = messy_df[messy_df['signup_date'] > pd.Timestamp.now()]\n",
    "\n",
    "print(\"Future signup dates:\")\n",
    "print(future_dates[['name', 'signup_date']])\n"
   ]
  },
  {
   "cell_type": "code",
   "execution_count": 20,
   "id": "dee95031-c14d-4134-b9c4-3c4b23b7b69e",
   "metadata": {},
   "outputs": [],
   "source": [
    "#Data profelling "
   ]
  },
  {
   "cell_type": "code",
   "execution_count": 24,
   "id": "56bc2730-4920-4c70-ab2c-e181af2740f8",
   "metadata": {},
   "outputs": [
    {
     "name": "stdout",
     "output_type": "stream",
     "text": [
      "Data Profile:\n",
      "                  data_type  missing_count  missing_percentage  unique_values  \\\n",
      "customer_id           int64              0                 0.0              9   \n",
      "name                 object              0                 0.0              9   \n",
      "email                object              1                10.0              8   \n",
      "age                   int64              0                 0.0              9   \n",
      "city                 object              0                 0.0              8   \n",
      "salary                int64              0                 0.0              9   \n",
      "signup_date  datetime64[ns]              0                 0.0              9   \n",
      "phone                object              0                 0.0              9   \n",
      "\n",
      "                                                 sample_values  \n",
      "customer_id                                          [1, 2, 3]  \n",
      "name                       [John Smith, Jane Doe, Bob Johnson]  \n",
      "email        [john@email.com, jane.doe@company.com, bob@ema...  \n",
      "age                                               [32, 28, 45]  \n",
      "city                          [New York, Los Angeles, Chicago]  \n",
      "salary                                   [50000, 75000, 60000]  \n",
      "signup_date  [2022-01-15 00:00:00, 2021-03-22 00:00:00, 202...  \n",
      "phone             [(555) 123-4567, 555-987-6543, 555.456.7890]  \n"
     ]
    }
   ],
   "source": [
    "def basic_data_profile(df):\n",
    "    \"\"\"Generate a basic data profile to identify quality issues\"\"\"\n",
    "    profile = pd.DataFrame({\n",
    "        'data_type': df.dtypes,\n",
    "        'missing_count': df.isnull().sum(),\n",
    "        'missing_percentage': (df.isnull().sum() / len(df)) * 100,\n",
    "        'unique_values': df.nunique(),\n",
    "        'sample_values': [df[col].dropna().unique()[:3] for col in df.columns]\n",
    "    })\n",
    "    return profile\n",
    "\n",
    "\n",
    "# Generate and display the profile\n",
    "print(\"Data Profile:\")\n",
    "print(basic_data_profile(messy_df))\n"
   ]
  },
  {
   "cell_type": "code",
   "execution_count": null,
   "id": "821621ac-3a19-4dd7-98d8-7ce1be5d18a0",
   "metadata": {},
   "outputs": [],
   "source": []
  },
  {
   "cell_type": "code",
   "execution_count": null,
   "id": "c7a20244-c626-48fb-ae42-e5e61a1c6014",
   "metadata": {},
   "outputs": [],
   "source": []
  },
  {
   "cell_type": "code",
   "execution_count": null,
   "id": "f80fbc88-17d5-4f1f-8a02-7e3c90867352",
   "metadata": {},
   "outputs": [],
   "source": []
  },
  {
   "cell_type": "code",
   "execution_count": null,
   "id": "2485f9d1-df1e-42f8-b13f-5dda66b9ceff",
   "metadata": {},
   "outputs": [],
   "source": []
  },
  {
   "cell_type": "code",
   "execution_count": null,
   "id": "6971a376-cd27-4412-bcff-cbe745a31969",
   "metadata": {},
   "outputs": [],
   "source": []
  },
  {
   "cell_type": "code",
   "execution_count": 27,
   "id": "708dab78-10b1-43ae-a69c-4f3d3f756c0b",
   "metadata": {},
   "outputs": [
    {
     "name": "stdout",
     "output_type": "stream",
     "text": [
      "Cleaned Dataset:\n",
      "   customer_id            name                    email  age          city  \\\n",
      "0            1      John Smith           john@email.com   32      New York   \n",
      "1            2        Jane Doe     jane.doe@company.com   28   Los Angeles   \n",
      "2            3     Bob Johnson            bob@email.com   45       Chicago   \n",
      "3            4     Alice Brown        unknown@email.com   29       Houston   \n",
      "4            5  Charlie Wilson        charlie@email.com   52      New York   \n",
      "6            6       David Lee          david@email.com   38       Phoenix   \n",
      "7            7     Emily Davis  emily.davis@company.com   25       Chicago   \n",
      "8            8    Frank Miller          frank@email.com   41  Philadelphia   \n",
      "9            9    Grace Wilson          grace@email.com   35         Miami   \n",
      "\n",
      "   salary signup_date       phone  \n",
      "0   50000  2022-01-15  5551234567  \n",
      "1   75000  2021-03-22  5559876543  \n",
      "2   60000  2023-05-10  5554567890  \n",
      "3   55000  2022-11-30  5552345678  \n",
      "4   80000  2021-07-18  5553456789  \n",
      "6   70000  2023-02-14  5558765432  \n",
      "7   65000  2022-09-05  5557654321  \n",
      "8   72000  2021-12-20  5555432109  \n",
      "9   68000  2024-01-01         NaN  \n"
     ]
    }
   ],
   "source": [
    "import pandas as pd\n",
    "import numpy as np\n",
    "\n",
    "# ---- 1. Fix missing values ----\n",
    "# Fill missing emails with placeholder\n",
    "messy_df['email'] = messy_df['email'].fillna('unknown@email.com')\n",
    "\n",
    "# ---- 2. Remove duplicate rows ----\n",
    "messy_df = messy_df.drop_duplicates()\n",
    "\n",
    "# ---- 3. Normalize casing ----\n",
    "messy_df['name'] = messy_df['name'].str.title()   # e.g., \"CHARLIE WILSON\" → \"Charlie Wilson\"\n",
    "messy_df['city'] = messy_df['city'].str.title()   # e.g., \"NEW YORK\" → \"New York\"\n",
    "\n",
    "# ---- 4. Handle invalid ages ----\n",
    "median_age = messy_df[(messy_df['age'] >= 18) & (messy_df['age'] <= 100)]['age'].median()\n",
    "messy_df.loc[(messy_df['age'] < 18) | (messy_df['age'] > 100), 'age'] = median_age\n",
    "\n",
    "# ---- 5. Handle future signup dates ----\n",
    "messy_df['signup_date'] = pd.to_datetime(messy_df['signup_date'])\n",
    "messy_df.loc[messy_df['signup_date'] > pd.Timestamp.now(), 'signup_date'] = pd.Timestamp.now()\n",
    "\n",
    "# ---- 6. Clean phone numbers (keep only digits) ----\n",
    "messy_df['phone'] = messy_df['phone'].str.replace(r'\\D', '', regex=True)\n",
    "messy_df['phone'] = messy_df['phone'].apply(lambda x: x if len(x) == 10 else np.nan)  # invalid if not 10 digits\n",
    "\n",
    "# ---- Final Cleaned Dataset ----\n",
    "print(\"Cleaned Dataset:\")\n",
    "print(messy_df)\n"
   ]
  },
  {
   "cell_type": "code",
   "execution_count": null,
   "id": "007f27dc-af9a-48d7-a334-3a84c8962842",
   "metadata": {},
   "outputs": [],
   "source": []
  },
  {
   "cell_type": "code",
   "execution_count": null,
   "id": "ef01d2cf-5d5d-491d-833e-6760e603e01b",
   "metadata": {},
   "outputs": [],
   "source": []
  },
  {
   "cell_type": "code",
   "execution_count": 28,
   "id": "e2a2cce9-29fd-498e-b847-bae7791f5923",
   "metadata": {},
   "outputs": [
    {
     "name": "stdout",
     "output_type": "stream",
     "text": [
      "Missing Values:\n",
      " customer_id    0\n",
      "name           0\n",
      "email          0\n",
      "age            0\n",
      "city           0\n",
      "salary         0\n",
      "signup_date    0\n",
      "phone          1\n",
      "dtype: int64\n",
      "\n",
      "Missing Values Percentage:\n",
      " customer_id     0.000000\n",
      "name            0.000000\n",
      "email           0.000000\n",
      "age             0.000000\n",
      "city            0.000000\n",
      "salary          0.000000\n",
      "signup_date     0.000000\n",
      "phone          11.111111\n",
      "dtype: float64\n",
      "\n",
      "--------------------------------------------------\n",
      "Duplicate customer_id values:\n",
      "Series([], Name: customer_id, dtype: int64)\n",
      "\n",
      "--------------------------------------------------\n",
      "Invalid ages (if any):\n",
      "Empty DataFrame\n",
      "Columns: [name, age]\n",
      "Index: []\n",
      "\n",
      "--------------------------------------------------\n",
      "Future signup dates (if any):\n",
      "Empty DataFrame\n",
      "Columns: [name, signup_date]\n",
      "Index: []\n",
      "\n",
      "--------------------------------------------------\n",
      "Invalid phone numbers (if any):\n",
      "           name phone\n",
      "9  Grace Wilson   NaN\n"
     ]
    }
   ],
   "source": [
    "# ---- 1. Missing values and percentages ----\n",
    "missing_counts = messy_df.isnull().sum()\n",
    "missing_percent = (missing_counts / len(messy_df)) * 100\n",
    "print(\"Missing Values:\\n\", missing_counts)\n",
    "print(\"\\nMissing Values Percentage:\\n\", missing_percent)\n",
    "print(\"\\n\" + \"-\"*50)\n",
    "\n",
    "# ---- 2. Duplicate customer_id check ----\n",
    "duplicate_customer_ids = messy_df['customer_id'][messy_df['customer_id'].duplicated()]\n",
    "print(\"Duplicate customer_id values:\")\n",
    "print(duplicate_customer_ids)\n",
    "print(\"\\n\" + \"-\"*50)\n",
    "\n",
    "# ---- 3. Invalid ages check ----\n",
    "invalid_ages = messy_df[(messy_df['age'] < 18) | (messy_df['age'] > 100)]\n",
    "print(\"Invalid ages (if any):\")\n",
    "print(invalid_ages[['name', 'age']])\n",
    "print(\"\\n\" + \"-\"*50)\n",
    "\n",
    "# ---- 4. Future signup dates check ----\n",
    "future_dates = messy_df[messy_df['signup_date'] > pd.Timestamp.now()]\n",
    "print(\"Future signup dates (if any):\")\n",
    "print(future_dates[['name', 'signup_date']])\n",
    "print(\"\\n\" + \"-\"*50)\n",
    "\n",
    "# ---- 5. Invalid phone numbers (NaN after cleaning) ----\n",
    "invalid_phones = messy_df[messy_df['phone'].isnull()]\n",
    "print(\"Invalid phone numbers (if any):\")\n",
    "print(invalid_phones[['name', 'phone']])\n"
   ]
  },
  {
   "cell_type": "code",
   "execution_count": null,
   "id": "10058670-43c1-4b0c-8d0f-eb5b78fb2b44",
   "metadata": {},
   "outputs": [],
   "source": []
  },
  {
   "cell_type": "code",
   "execution_count": 33,
   "id": "47e0ec73-cd43-4f78-b30f-8680876b4525",
   "metadata": {},
   "outputs": [
    {
     "data": {
      "text/html": [
       "<a href='cleaned_dataset.csv' target='_blank'>cleaned_dataset.csv</a><br>"
      ],
      "text/plain": [
       "C:\\Users\\telug\\AI-Projects\\cleaned_dataset.csv"
      ]
     },
     "execution_count": 33,
     "metadata": {},
     "output_type": "execute_result"
    }
   ],
   "source": [
    "from IPython.display import FileLink\n",
    "\n",
    "# Create a link to download the file\n",
    "FileLink('cleaned_dataset.csv')\n"
   ]
  },
  {
   "cell_type": "code",
   "execution_count": null,
   "id": "7e7fc37b-eb56-4e6a-b670-b9d240fad513",
   "metadata": {},
   "outputs": [],
   "source": []
  },
  {
   "cell_type": "code",
   "execution_count": null,
   "id": "7beed65f-7bd0-4d74-95d2-8152ed8c6505",
   "metadata": {},
   "outputs": [],
   "source": []
  }
 ],
 "metadata": {
  "kernelspec": {
   "display_name": "Python 3 (ipykernel)",
   "language": "python",
   "name": "python3"
  },
  "language_info": {
   "codemirror_mode": {
    "name": "ipython",
    "version": 3
   },
   "file_extension": ".py",
   "mimetype": "text/x-python",
   "name": "python",
   "nbconvert_exporter": "python",
   "pygments_lexer": "ipython3",
   "version": "3.13.5"
  }
 },
 "nbformat": 4,
 "nbformat_minor": 5
}
