{
 "cells": [
  {
   "cell_type": "code",
   "execution_count": 16,
   "id": "f530279f-f059-4e68-ae94-00d0edbd6807",
   "metadata": {},
   "outputs": [
    {
     "name": "stdout",
     "output_type": "stream",
     "text": [
      "Data Types:\n",
      "customer_id             int64\n",
      "name                   object\n",
      "age                     int64\n",
      "salary                float64\n",
      "is_active                bool\n",
      "signup_date    datetime64[ns]\n",
      "category               object\n",
      "dtype: object\n",
      "\n",
      "\n",
      "DataFrame:\n",
      "   customer_id     name  age   salary  is_active signup_date category\n",
      "0            1    Alice   25  50000.0       True  2022-01-15        A\n",
      "1            2      Bob   32  75000.0      False  2021-03-22        B\n",
      "2            3  Charlie   45  60000.0       True  2023-05-10        A\n",
      "3            4    Diana   29  55000.0       True  2022-11-30        C\n",
      "4            5      Eve   38  80000.0      False  2021-07-18        B\n"
     ]
    }
   ],
   "source": [
    "import pandas as pd\n",
    "import numpy as np\n",
    "\n",
    "# Create a sample dataset with mixed data types\n",
    "data = {\n",
    "    'customer_id': [1, 2, 3, 4, 5],\n",
    "    'name': ['Alice', 'Bob', 'Charlie', 'Diana', 'Eve'],\n",
    "    'age': [25, 32, 45, 29, 38],\n",
    "    'salary': [50000.0, 75000.0, 60000.0, 55000.0, 80000.0],\n",
    "    'is_active': [True, False, True, True, False],\n",
    "    'signup_date': pd.to_datetime(['2022-01-15', '2021-03-22', '2023-05-10', '2022-11-30', '2021-07-18']),\n",
    "    'category': ['A', 'B', 'A', 'C', 'B']\n",
    "}\n",
    "df = pd.DataFrame(data)\n",
    "\n",
    "# Check data types\n",
    "print(\"Data Types:\")\n",
    "print(df.dtypes)\n",
    "print(\"\\n\")\n",
    "\n",
    "# Display the dataframe\n",
    "print(\"DataFrame:\")\n",
    "print(df)\n"
   ]
  },
  {
   "cell_type": "code",
   "execution_count": 18,
   "id": "3564815a-b933-499b-8966-f75c51500c73",
   "metadata": {},
   "outputs": [
    {
     "name": "stdout",
     "output_type": "stream",
     "text": [
      "Problem DataFrame:\n",
      "   customer_id     name  age   salary  is_active signup_date category\n",
      "0            1    Alice   25  50000.0       True  2022-01-15        A\n",
      "1            2      Bob   32  75000.0      False  2021-03-22        B\n",
      "2            3  Charlie   45  60000.0       True  2023-05-10        A\n",
      "3            4    Diana   29  55000.0       True  2022-11-30        C\n",
      "4            5      Eve   38  80000.0      False  2021-07-18        B\n",
      "\n",
      "Data Types:\n",
      "customer_id             int64\n",
      "name                   object\n",
      "age                     int64\n",
      "salary                float64\n",
      "is_active                bool\n",
      "signup_date    datetime64[ns]\n",
      "category               object\n",
      "dtype: object\n"
     ]
    }
   ],
   "source": [
    "\n",
    "problem_df = pd.DataFrame(df)\n",
    "\n",
    "print(\"Problem DataFrame:\")\n",
    "print(df)\n",
    "print(\"\\nData Types:\")\n",
    "print(problem_df.dtypes)\n"
   ]
  },
  {
   "cell_type": "code",
   "execution_count": null,
   "id": "13c8f3b2-2884-4b6e-bb6f-c03785fb32b1",
   "metadata": {},
   "outputs": [],
   "source": [
    "date_df = pd.DataFrame(date_data)\n",
    "\n",
    "print(\"Date DataFrame:\")\n",
    "print(date_df)\n",
    "print(\"\\nData Types:\")\n",
    "print(date_df.dtypes)"
   ]
  },
  {
   "cell_type": "code",
   "execution_count": null,
   "id": "27058e2a-ee2f-433f-8324-ba2fcb0de6d1",
   "metadata": {},
   "outputs": [],
   "source": []
  },
  {
   "cell_type": "code",
   "execution_count": 15,
   "id": "c135335f-2599-43a4-89a8-2c45c306f8c7",
   "metadata": {},
   "outputs": [
    {
     "name": "stdout",
     "output_type": "stream",
     "text": [
      "customer_id             int64\n",
      "name                   object\n",
      "age                     int64\n",
      "salary                float64\n",
      "is_active                bool\n",
      "signup_date    datetime64[ns]\n",
      "category               object\n",
      "dtype: object\n",
      "<class 'pandas.core.frame.DataFrame'>\n",
      "RangeIndex: 5 entries, 0 to 4\n",
      "Data columns (total 7 columns):\n",
      " #   Column       Non-Null Count  Dtype         \n",
      "---  ------       --------------  -----         \n",
      " 0   customer_id  5 non-null      int64         \n",
      " 1   name         5 non-null      object        \n",
      " 2   age          5 non-null      int64         \n",
      " 3   salary       5 non-null      float64       \n",
      " 4   is_active    5 non-null      bool          \n",
      " 5   signup_date  5 non-null      datetime64[ns]\n",
      " 6   category     5 non-null      object        \n",
      "dtypes: bool(1), datetime64[ns](1), float64(1), int64(2), object(2)\n",
      "memory usage: 377.0+ bytes\n",
      "None\n"
     ]
    }
   ],
   "source": [
    "#Create a sample dataset with mixed data types\n",
    "data = { 'customer_id': [1, 2, 3, 4, 5], 'name': ['Alice', 'Bob', 'Charlie', 'Diana', 'Eve'],\n",
    "        'age': [25, 32, 45, 29, 38], 'salary': [50000.0, 75000.0, 60000.0, 55000.0, 80000.0],\n",
    "        'is_active': [True, False, True, True, False],\n",
    "        'signup_date': pd.to_datetime(['2022-01-15', '2021-03-22', '2023-05-10', '2022-11-30', '2021-07-18']), \n",
    "        'category': ['A', 'B', 'A', 'C', 'B'] }\n",
    "df = pd.DataFrame(data)\n",
    "# Check data types print(\"Data Types:\")\n",
    "print(df.dtypes) \n",
    " # Display the dataframe print(\"DataFrame:\")\n",
    "print(df.info())\n"
   ]
  },
  {
   "cell_type": "code",
   "execution_count": 13,
   "id": "1305f24e-fa83-4cc9-81eb-9fabfc57a855",
   "metadata": {},
   "outputs": [
    {
     "ename": "AttributeError",
     "evalue": "'DataFrame' object has no attribute 'dtype'",
     "output_type": "error",
     "traceback": [
      "\u001b[1;31m---------------------------------------------------------------------------\u001b[0m",
      "\u001b[1;31mAttributeError\u001b[0m                            Traceback (most recent call last)",
      "\u001b[1;32m~\\AppData\\Local\\Temp\\ipykernel_2660\\910862699.py\u001b[0m in \u001b[0;36m?\u001b[1;34m()\u001b[0m\n\u001b[1;32m----> 1\u001b[1;33m \u001b[0mprint\u001b[0m\u001b[1;33m(\u001b[0m\u001b[0mdf\u001b[0m\u001b[1;33m.\u001b[0m\u001b[0mdtype\u001b[0m\u001b[1;33m)\u001b[0m\u001b[1;33m\u001b[0m\u001b[1;33m\u001b[0m\u001b[0m\n\u001b[0m",
      "\u001b[1;32m~\\AppData\\Roaming\\Python\\Python313\\site-packages\\pandas\\core\\generic.py\u001b[0m in \u001b[0;36m?\u001b[1;34m(self, name)\u001b[0m\n\u001b[0;32m   6295\u001b[0m             \u001b[1;32mand\u001b[0m \u001b[0mname\u001b[0m \u001b[1;32mnot\u001b[0m \u001b[1;32min\u001b[0m \u001b[0mself\u001b[0m\u001b[1;33m.\u001b[0m\u001b[0m_accessors\u001b[0m\u001b[1;33m\u001b[0m\u001b[1;33m\u001b[0m\u001b[0m\n\u001b[0;32m   6296\u001b[0m             \u001b[1;32mand\u001b[0m \u001b[0mself\u001b[0m\u001b[1;33m.\u001b[0m\u001b[0m_info_axis\u001b[0m\u001b[1;33m.\u001b[0m\u001b[0m_can_hold_identifiers_and_holds_name\u001b[0m\u001b[1;33m(\u001b[0m\u001b[0mname\u001b[0m\u001b[1;33m)\u001b[0m\u001b[1;33m\u001b[0m\u001b[1;33m\u001b[0m\u001b[0m\n\u001b[0;32m   6297\u001b[0m         \u001b[1;33m)\u001b[0m\u001b[1;33m:\u001b[0m\u001b[1;33m\u001b[0m\u001b[1;33m\u001b[0m\u001b[0m\n\u001b[0;32m   6298\u001b[0m             \u001b[1;32mreturn\u001b[0m \u001b[0mself\u001b[0m\u001b[1;33m[\u001b[0m\u001b[0mname\u001b[0m\u001b[1;33m]\u001b[0m\u001b[1;33m\u001b[0m\u001b[1;33m\u001b[0m\u001b[0m\n\u001b[1;32m-> 6299\u001b[1;33m         \u001b[1;32mreturn\u001b[0m \u001b[0mobject\u001b[0m\u001b[1;33m.\u001b[0m\u001b[0m__getattribute__\u001b[0m\u001b[1;33m(\u001b[0m\u001b[0mself\u001b[0m\u001b[1;33m,\u001b[0m \u001b[0mname\u001b[0m\u001b[1;33m)\u001b[0m\u001b[1;33m\u001b[0m\u001b[1;33m\u001b[0m\u001b[0m\n\u001b[0m",
      "\u001b[1;31mAttributeError\u001b[0m: 'DataFrame' object has no attribute 'dtype'"
     ]
    }
   ],
   "source": []
  },
  {
   "cell_type": "code",
   "execution_count": 7,
   "id": "1c47ab76-46df-4258-b8ed-7bedaaa7b984",
   "metadata": {},
   "outputs": [],
   "source": [
    "#Common Data Type Problems"
   ]
  },
  {
   "cell_type": "code",
   "execution_count": 5,
   "id": "3b326144-e6a8-4731-886f-365a0c3eb3ac",
   "metadata": {},
   "outputs": [
    {
     "name": "stdout",
     "output_type": "stream",
     "text": [
      "Problem DataFrame:\n",
      "  product_id   price\n",
      "0        001  $19.99\n",
      "1        002   25.50\n",
      "2        003      15\n",
      "3        004   10.99\n",
      "\n",
      "Data Types:\n",
      "product_id    object\n",
      "price         object\n",
      "dtype: object\n"
     ]
    }
   ],
   "source": [
    "# Example of numbers stored as text\n",
    "problem_data = { 'product_id': ['001', '002', '003', '004'], 'price': ['$19.99', '25.50', '15', '10.99'] }\n",
    "problem_df = pd.DataFrame(problem_data)\n",
    "print(\"Problem DataFrame:\")\n",
    "print(problem_df) \n",
    "print(\"\\nData Types:\")\n",
    "print(problem_df.dtypes)"
   ]
  },
  {
   "cell_type": "code",
   "execution_count": 9,
   "id": "c421dd26-7f93-4476-bf5e-493e890e59f3",
   "metadata": {},
   "outputs": [],
   "source": [
    "# need standardization."
   ]
  },
  {
   "cell_type": "code",
   "execution_count": 19,
   "id": "81715b51-0dac-43ee-9351-04a505a813f8",
   "metadata": {},
   "outputs": [
    {
     "name": "stdout",
     "output_type": "stream",
     "text": [
      "Original Date DataFrame:\n",
      "        event          date\n",
      "0     Meeting    15/05/2023\n",
      "1  Conference    2023-06-10\n",
      "2    Workshop  July 4, 2023\n",
      "\n",
      "Original Data Types:\n",
      "event    object\n",
      "date     object\n",
      "dtype: object\n",
      "------------------------------\n",
      "\n",
      "Cleaned Date DataFrame:\n",
      "        event          date date_clean\n",
      "0     Meeting    15/05/2023 2023-05-15\n",
      "1  Conference    2023-06-10        NaT\n",
      "2    Workshop  July 4, 2023        NaT\n",
      "\n",
      "Cleaned Data Types:\n",
      "date_clean    datetime64[ns]\n",
      "dtype: object\n"
     ]
    },
    {
     "name": "stderr",
     "output_type": "stream",
     "text": [
      "C:\\Users\\telug\\AppData\\Local\\Temp\\ipykernel_2660\\433169719.py:19: UserWarning: Parsing dates in %d/%m/%Y format when dayfirst=False (the default) was specified. Pass `dayfirst=True` or specify a format to silence this warning.\n",
      "  date_df['date_clean'] = pd.to_datetime(date_df['date'], errors='coerce')\n"
     ]
    }
   ],
   "source": [
    "import pandas as pd\n",
    "\n",
    "# Data from the problem\n",
    "date_data = {\n",
    "    'event': ['Meeting', 'Conference', 'Workshop'],\n",
    "    'date': ['15/05/2023', '2023-06-10', 'July 4, 2023']\n",
    "}\n",
    "date_df = pd.DataFrame(date_data)\n",
    "\n",
    "print(\"Original Date DataFrame:\")\n",
    "print(date_df)\n",
    "print(\"\\nOriginal Data Types:\")\n",
    "print(date_df.dtypes)\n",
    "print(\"-\" * 30)\n",
    "\n",
    "\n",
    "# Fixing the dates stored as text example\n",
    "# The errors='coerce' argument will turn any unparseable dates into NaT (Not a Time)\n",
    "date_df['date_clean'] = pd.to_datetime(date_df['date'], errors='coerce')\n",
    "\n",
    "print(\"\\nCleaned Date DataFrame:\")\n",
    "print(date_df)\n",
    "print(\"\\nCleaned Data Types:\")\n",
    "print(date_df[['date_clean']].dtypes)\n"
   ]
  },
  {
   "cell_type": "code",
   "execution_count": 9,
   "id": "2fb2cca6-f1dc-47c8-bf41-356ac33bd2c0",
   "metadata": {},
   "outputs": [
    {
     "ename": "AttributeError",
     "evalue": "'DataFrame' object has no attribute 'dtype'",
     "output_type": "error",
     "traceback": [
      "\u001b[1;31m---------------------------------------------------------------------------\u001b[0m",
      "\u001b[1;31mAttributeError\u001b[0m                            Traceback (most recent call last)",
      "\u001b[1;32m~\\AppData\\Local\\Temp\\ipykernel_2660\\2810483450.py\u001b[0m in \u001b[0;36m?\u001b[1;34m()\u001b[0m\n\u001b[1;32m----> 1\u001b[1;33m \u001b[0mprint\u001b[0m\u001b[1;33m(\u001b[0m\u001b[0mdate_df\u001b[0m\u001b[1;33m.\u001b[0m\u001b[0mdtype\u001b[0m\u001b[1;33m)\u001b[0m\u001b[1;33m\u001b[0m\u001b[1;33m\u001b[0m\u001b[0m\n\u001b[0m",
      "\u001b[1;32m~\\AppData\\Roaming\\Python\\Python313\\site-packages\\pandas\\core\\generic.py\u001b[0m in \u001b[0;36m?\u001b[1;34m(self, name)\u001b[0m\n\u001b[0;32m   6295\u001b[0m             \u001b[1;32mand\u001b[0m \u001b[0mname\u001b[0m \u001b[1;32mnot\u001b[0m \u001b[1;32min\u001b[0m \u001b[0mself\u001b[0m\u001b[1;33m.\u001b[0m\u001b[0m_accessors\u001b[0m\u001b[1;33m\u001b[0m\u001b[1;33m\u001b[0m\u001b[0m\n\u001b[0;32m   6296\u001b[0m             \u001b[1;32mand\u001b[0m \u001b[0mself\u001b[0m\u001b[1;33m.\u001b[0m\u001b[0m_info_axis\u001b[0m\u001b[1;33m.\u001b[0m\u001b[0m_can_hold_identifiers_and_holds_name\u001b[0m\u001b[1;33m(\u001b[0m\u001b[0mname\u001b[0m\u001b[1;33m)\u001b[0m\u001b[1;33m\u001b[0m\u001b[1;33m\u001b[0m\u001b[0m\n\u001b[0;32m   6297\u001b[0m         \u001b[1;33m)\u001b[0m\u001b[1;33m:\u001b[0m\u001b[1;33m\u001b[0m\u001b[1;33m\u001b[0m\u001b[0m\n\u001b[0;32m   6298\u001b[0m             \u001b[1;32mreturn\u001b[0m \u001b[0mself\u001b[0m\u001b[1;33m[\u001b[0m\u001b[0mname\u001b[0m\u001b[1;33m]\u001b[0m\u001b[1;33m\u001b[0m\u001b[1;33m\u001b[0m\u001b[0m\n\u001b[1;32m-> 6299\u001b[1;33m         \u001b[1;32mreturn\u001b[0m \u001b[0mobject\u001b[0m\u001b[1;33m.\u001b[0m\u001b[0m__getattribute__\u001b[0m\u001b[1;33m(\u001b[0m\u001b[0mself\u001b[0m\u001b[1;33m,\u001b[0m \u001b[0mname\u001b[0m\u001b[1;33m)\u001b[0m\u001b[1;33m\u001b[0m\u001b[1;33m\u001b[0m\u001b[0m\n\u001b[0m",
      "\u001b[1;31mAttributeError\u001b[0m: 'DataFrame' object has no attribute 'dtype'"
     ]
    }
   ],
   "source": []
  },
  {
   "cell_type": "code",
   "execution_count": null,
   "id": "4d5229c5-8cb3-4edb-84b0-6dff04bac4f1",
   "metadata": {},
   "outputs": [],
   "source": []
  },
  {
   "cell_type": "code",
   "execution_count": null,
   "id": "186f5e88-abad-4110-9250-eec34cf47351",
   "metadata": {},
   "outputs": [],
   "source": []
  },
  {
   "cell_type": "code",
   "execution_count": null,
   "id": "43d50872-f4fc-4195-ba5b-d9297a3f852a",
   "metadata": {},
   "outputs": [],
   "source": []
  },
  {
   "cell_type": "code",
   "execution_count": null,
   "id": "e3d934b6-2244-4e34-b0f4-9d9841c149c1",
   "metadata": {},
   "outputs": [],
   "source": []
  },
  {
   "cell_type": "code",
   "execution_count": null,
   "id": "c33fe4a9-9e8f-4540-bfe9-5d2f01c59aa7",
   "metadata": {},
   "outputs": [],
   "source": []
  },
  {
   "cell_type": "code",
   "execution_count": null,
   "id": "7c9418e8-3e9e-4351-8e50-5986baed5337",
   "metadata": {},
   "outputs": [],
   "source": []
  },
  {
   "cell_type": "code",
   "execution_count": null,
   "id": "ac515763-f909-46e8-b3a8-deedeb2a6953",
   "metadata": {},
   "outputs": [],
   "source": []
  },
  {
   "cell_type": "code",
   "execution_count": null,
   "id": "dd53544b-2f73-42a1-8467-7f133c60dc84",
   "metadata": {},
   "outputs": [],
   "source": []
  },
  {
   "cell_type": "code",
   "execution_count": null,
   "id": "c96dc429-31cf-4ddf-b76b-05d8829aa00c",
   "metadata": {},
   "outputs": [],
   "source": []
  },
  {
   "cell_type": "code",
   "execution_count": null,
   "id": "b735a4d6-a1eb-4765-839f-930ed17ea753",
   "metadata": {},
   "outputs": [],
   "source": []
  },
  {
   "cell_type": "code",
   "execution_count": 21,
   "id": "fb0a2194-ad8e-4309-9d30-1b00ca5f06e0",
   "metadata": {},
   "outputs": [
    {
     "name": "stdout",
     "output_type": "stream",
     "text": [
      "Original Date DataFrame:\n",
      "        event          date\n",
      "0     Meeting    15/05/2023\n",
      "1  Conference    2023-06-10\n",
      "2    Workshop  July 4, 2023\n",
      "\n",
      "Original Data Types:\n",
      "event    object\n",
      "date     object\n",
      "dtype: object\n",
      "------------------------------\n",
      "\n",
      "Final Cleaned Date DataFrame:\n",
      "        event       date\n",
      "0     Meeting 2023-05-15\n",
      "1  Conference 2023-06-10\n",
      "2    Workshop 2023-07-04\n",
      "\n",
      "Final Data Types:\n",
      "event            object\n",
      "date     datetime64[ns]\n",
      "dtype: object\n"
     ]
    }
   ],
   "source": [
    "import pandas as pd\n",
    "\n",
    "# Data from the problem\n",
    "date_data = {\n",
    "    'event': ['Meeting', 'Conference', 'Workshop'],\n",
    "    'date': ['15/05/2023', '2023-06-10', 'July 4, 2023']\n",
    "}\n",
    "date_df = pd.DataFrame(date_data)\n",
    "\n",
    "print(\"Original Date DataFrame:\")\n",
    "print(date_df)\n",
    "print(\"\\nOriginal Data Types:\")\n",
    "print(date_df.dtypes)\n",
    "print(\"-\" * 30)\n",
    "\n",
    "# Fixing the dates stored as text example\n",
    "# Use format='mixed' to handle multiple date formats automatically\n",
    "date_df['date_clean'] = pd.to_datetime(\n",
    "    date_df['date'], \n",
    "    format='mixed',  # Key fix: Allows mixed formats\n",
    "    dayfirst=True,   # Optional: Ensures DD/MM parsing for ambiguous slash dates\n",
    "    errors='coerce'\n",
    ")\n",
    "\n",
    "# Drop the original 'date' column and replace with 'date_clean'\n",
    "date_df = date_df.drop('date', axis=1)\n",
    "date_df = date_df.rename(columns={'date_clean': 'date'})\n",
    "\n",
    "print(\"\\nFinal Cleaned Date DataFrame:\")\n",
    "print(date_df)\n",
    "print(\"\\nFinal Data Types:\")\n",
    "print(date_df.dtypes)"
   ]
  },
  {
   "cell_type": "code",
   "execution_count": null,
   "id": "24c980ed-13ec-4fd4-8016-bb5dafc988e8",
   "metadata": {},
   "outputs": [],
   "source": []
  },
  {
   "cell_type": "code",
   "execution_count": null,
   "id": "8357f7a0-00ac-4842-bc8c-9e281798a903",
   "metadata": {},
   "outputs": [],
   "source": []
  },
  {
   "cell_type": "code",
   "execution_count": null,
   "id": "3732f958-74ff-45ab-9131-4883f42a6a04",
   "metadata": {},
   "outputs": [],
   "source": []
  },
  {
   "cell_type": "code",
   "execution_count": null,
   "id": "8cf8914c-6795-4957-9a5d-cc78289ce21c",
   "metadata": {},
   "outputs": [],
   "source": []
  }
 ],
 "metadata": {
  "kernelspec": {
   "display_name": "Python 3 (ipykernel)",
   "language": "python",
   "name": "python3"
  },
  "language_info": {
   "codemirror_mode": {
    "name": "ipython",
    "version": 3
   },
   "file_extension": ".py",
   "mimetype": "text/x-python",
   "name": "python",
   "nbconvert_exporter": "python",
   "pygments_lexer": "ipython3",
   "version": "3.13.5"
  }
 },
 "nbformat": 4,
 "nbformat_minor": 5
}
