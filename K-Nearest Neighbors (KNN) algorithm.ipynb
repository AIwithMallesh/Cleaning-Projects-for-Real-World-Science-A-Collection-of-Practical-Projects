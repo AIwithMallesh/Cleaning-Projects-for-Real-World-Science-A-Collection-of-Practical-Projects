{
 "cells": [
  {
   "cell_type": "code",
   "execution_count": 2,
   "id": "3b8706ba-a91b-4901-9ffd-12e2447e39ab",
   "metadata": {},
   "outputs": [
    {
     "name": "stdout",
     "output_type": "stream",
     "text": [
      "Prediction: [0]\n",
      "Predicted species: setosa\n"
     ]
    }
   ],
   "source": [
    "from sklearn.datasets import load_iris\n",
    "from sklearn.neighbors import KNeighborsClassifier\n",
    "\n",
    "# 1. Load the data\n",
    "iris = load_iris()\n",
    "X = iris.data # The features (sepal length, petal width, etc.)\n",
    "y = iris.target # The labels (the species of flower: 0, 1, or 2)\n",
    "\n",
    "# 2. Initialize the model (Estimator)\n",
    "# We'll start by looking at the 3 nearest neighbors\n",
    "knn = KNeighborsClassifier(n_neighbors=3)\n",
    "\n",
    "# 3. Train the model\n",
    "# We'll use all data for now, but will improve this later!\n",
    "knn.fit(X, y)\n",
    "\n",
    "# 4. Make a prediction for a new, unseen flower\n",
    "# Let's say we found a flower with these measurements:\n",
    "new_flower = [[5.1, 3.5, 1.4, 0.2]] # Note the double brackets for a 2D array\n",
    "prediction = knn.predict(new_flower)\n",
    "\n",
    "print(f\"Prediction: {prediction}\")\n",
    "print(f\"Predicted species: {iris.target_names[prediction][0]}\")"
   ]
  },
  {
   "cell_type": "code",
   "execution_count": 3,
   "id": "1baac9ae-3b74-45fa-8780-8f527a4d1fef",
   "metadata": {},
   "outputs": [],
   "source": [
    "#Accuracy"
   ]
  },
  {
   "cell_type": "code",
   "execution_count": 4,
   "id": "3266e70c-2945-4fe2-9fcc-192ecbe9ce07",
   "metadata": {},
   "outputs": [
    {
     "name": "stdout",
     "output_type": "stream",
     "text": [
      "The model's accuracy on the training data is: 96.00%\n"
     ]
    }
   ],
   "source": [
    "from sklearn.datasets import load_iris\n",
    "from sklearn.neighbors import KNeighborsClassifier\n",
    "from sklearn.metrics import accuracy_score\n",
    "\n",
    "# --- Setup from before ---\n",
    "iris = load_iris()\n",
    "X = iris.data\n",
    "y = iris.target\n",
    "knn = KNeighborsClassifier(n_neighbors=3)\n",
    "knn.fit(X, y)\n",
    "# --- End of setup ---\n",
    "\n",
    "# Let's make predictions on the SAME data we trained on\n",
    "# (We'll see why this is a bad idea soon, but it's a start)\n",
    "y_pred = knn.predict(X)\n",
    "\n",
    "# Compare the model's predictions (y_pred) to the true labels (y)\n",
    "accuracy = accuracy_score(y, y_pred)\n",
    "\n",
    "print(f\"The model's accuracy on the training data is: {accuracy * 100:.2f}%\")\n",
    "# Output: The model's accuracy on the training data is: 96.00%"
   ]
  }
 ],
 "metadata": {
  "kernelspec": {
   "display_name": "Python 3 (ipykernel)",
   "language": "python",
   "name": "python3"
  },
  "language_info": {
   "codemirror_mode": {
    "name": "ipython",
    "version": 3
   },
   "file_extension": ".py",
   "mimetype": "text/x-python",
   "name": "python",
   "nbconvert_exporter": "python",
   "pygments_lexer": "ipython3",
   "version": "3.13.5"
  }
 },
 "nbformat": 4,
 "nbformat_minor": 5
}
