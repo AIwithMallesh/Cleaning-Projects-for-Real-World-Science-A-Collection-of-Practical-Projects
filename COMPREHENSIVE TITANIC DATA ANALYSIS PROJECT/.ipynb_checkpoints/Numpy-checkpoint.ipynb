{
 "cells": [
  {
   "cell_type": "code",
   "execution_count": null,
   "id": "b61c50a4-88ae-4e38-9b3f-7890f72c75db",
   "metadata": {},
   "outputs": [],
   "source": [
    "# First Lession"
   ]
  },
  {
   "cell_type": "code",
   "execution_count": 1,
   "id": "c11516eb-a39b-4283-a516-96b1daaa5b18",
   "metadata": {},
   "outputs": [
    {
     "name": "stdout",
     "output_type": "stream",
     "text": [
      "2.2.2\n"
     ]
    }
   ],
   "source": [
    "import numpy as np\n",
    "\n",
    "print(np.__version__)"
   ]
  },
  {
   "cell_type": "code",
   "execution_count": 2,
   "id": "cec156d9-f691-45cc-892a-d28113aa1ec3",
   "metadata": {},
   "outputs": [
    {
     "name": "stdout",
     "output_type": "stream",
     "text": [
      "[1, 2, 4, 5, 1, 2, 4, 5]\n"
     ]
    }
   ],
   "source": [
    "my_list = [1, 2, 4, 5]\n",
    "\n",
    "my_list = my_list * 2\n",
    "\n",
    "print(my_list)"
   ]
  },
  {
   "cell_type": "code",
   "execution_count": 4,
   "id": "9b739da3-5fe6-4698-801e-8075932bd82d",
   "metadata": {},
   "outputs": [
    {
     "name": "stdout",
     "output_type": "stream",
     "text": [
      "[1 2 4 5 6]\n",
      "<class 'numpy.ndarray'>\n"
     ]
    }
   ],
   "source": [
    "array = np.array([1, 2, 4, 5, 6])\n",
    "print(array)\n",
    "print(type(array))"
   ]
  },
  {
   "cell_type": "code",
   "execution_count": null,
   "id": "22fac1a8-ebf9-4165-8465-a1fe1b12059f",
   "metadata": {},
   "outputs": [],
   "source": [
    "# Second Lesson"
   ]
  },
  {
   "cell_type": "code",
   "execution_count": 28,
   "id": "09a50008-4ce5-46dd-98b9-5e858b92110e",
   "metadata": {},
   "outputs": [
    {
     "name": "stdout",
     "output_type": "stream",
     "text": [
      "Mallesh.\n"
     ]
    }
   ],
   "source": [
    "array = np.array([[['a','b', 'd'], ['e','d', 'd'],['a','b', 'd']],\n",
    "                  [['h','b', 'd'], ['a','b', 'M'],['a','s', 'd']],\n",
    "                  [['a','b', 'l'], ['a','f', 'd'],['.','b','l']]])\n",
    "\n",
    "# print(array.shape)\n",
    "print(array[1,1,2]+array[1,1,0]+array[2,0,2]+array[2,0,2]+array[0,1,0]+array[1,2,1]+array[1,0,0]+array[2,2,0])"
   ]
  },
  {
   "cell_type": "code",
   "execution_count": null,
   "id": "342818a7-405f-4627-8dda-497c9c8d8e17",
   "metadata": {},
   "outputs": [],
   "source": [
    "#lession 3 - 2D array"
   ]
  },
  {
   "cell_type": "code",
   "execution_count": 50,
   "id": "018417ff-4a15-4d25-87f0-e28865076b98",
   "metadata": {},
   "outputs": [
    {
     "name": "stdout",
     "output_type": "stream",
     "text": [
      "int64\n"
     ]
    }
   ],
   "source": [
    "array = np.array([[1,2,3,4],\n",
    "                  [3,4,3,4],\n",
    "                  [1,2,3,4],\n",
    "                  [1,2,3,4]])\n",
    "# print(array.ndim)\n",
    "\n",
    "# print(array[:, 3])\n",
    "\n",
    "print(array.dtype)"
   ]
  },
  {
   "cell_type": "code",
   "execution_count": 62,
   "id": "3ca2111f-273f-466f-ad5f-ee6436e7ffa5",
   "metadata": {},
   "outputs": [
    {
     "name": "stdout",
     "output_type": "stream",
     "text": [
      "3\n"
     ]
    }
   ],
   "source": [
    "ones = np.zeros((4, 2, 2)) # A 3x3 matrix of ones\n",
    "print(ones.ndim)"
   ]
  },
  {
   "cell_type": "code",
   "execution_count": 63,
   "id": "a437c9c1-7db8-4b4a-8aa2-d7edd146d283",
   "metadata": {},
   "outputs": [
    {
     "name": "stdout",
     "output_type": "stream",
     "text": [
      "\n",
      "Range array: [0 2 4 6 8]\n"
     ]
    }
   ],
   "source": [
    "range_array = np.arange(0, 10, 2) # Start, stop (exclusive), step\n",
    "print(\"\\nRange array:\", range_array) # [0 2 4 6 8]"
   ]
  },
  {
   "cell_type": "code",
   "execution_count": 68,
   "id": "6c1dde7b-2a3c-4fcc-ab7a-9c1864b6f309",
   "metadata": {},
   "outputs": [
    {
     "name": "stdout",
     "output_type": "stream",
     "text": [
      "\n",
      "Random array:\n",
      " [[0.91995655 0.7418136  0.45034317]\n",
      " [0.05341055 0.9370916  0.69101572]]\n"
     ]
    }
   ],
   "source": [
    "random_array = np.random.rand(2, 3) # A 2x3 matrix of random floats\n",
    "print(\"\\nRandom array:\\n\", random_array)"
   ]
  },
  {
   "cell_type": "code",
   "execution_count": 71,
   "id": "f492b218-21af-43ba-9533-fc3242e32cf8",
   "metadata": {},
   "outputs": [
    {
     "name": "stdout",
     "output_type": "stream",
     "text": [
      "\n",
      "Linspace array: [ 0.   2.5  5.   7.5 10. ]\n"
     ]
    }
   ],
   "source": [
    "linspace_array = np.linspace(0, 10, 5) # 5 points from 0 to 10 (inclusive)\n",
    "print(\"\\nLinspace array:\", linspace_array)"
   ]
  },
  {
   "cell_type": "code",
   "execution_count": null,
   "id": "e18eaa58-df95-46ac-aeed-071fc9a42688",
   "metadata": {},
   "outputs": [],
   "source": []
  },
  {
   "cell_type": "code",
   "execution_count": null,
   "id": "e94a1749-b9d5-4066-96c5-463e767d9bee",
   "metadata": {},
   "outputs": [],
   "source": [
    "#Arithematic "
   ]
  },
  {
   "cell_type": "code",
   "execution_count": 75,
   "id": "5862ba28-3674-4360-b76d-8d1ef6d0c053",
   "metadata": {},
   "outputs": [
    {
     "name": "stdout",
     "output_type": "stream",
     "text": [
      "[2 3 4]\n",
      "[0 1 2]\n",
      "[1 2 3]\n",
      "[1. 2. 3.]\n",
      "[1 2 3]\n"
     ]
    }
   ],
   "source": [
    "array = np.array([1,2,3])\n",
    "\n",
    "print(array+1)\n",
    "print(array-1)\n",
    "print(array*1)\n",
    "print(array/1)\n",
    "print(array**1)"
   ]
  },
  {
   "cell_type": "code",
   "execution_count": null,
   "id": "0375aec1-fe19-4520-99f0-f5571c24a89c",
   "metadata": {},
   "outputs": [],
   "source": [
    "#Vectorize math functions"
   ]
  },
  {
   "cell_type": "code",
   "execution_count": 80,
   "id": "2b092ced-1dc4-46bf-8228-9279ed02cc2d",
   "metadata": {},
   "outputs": [
    {
     "name": "stdout",
     "output_type": "stream",
     "text": [
      "[3.46410162 1.51657509 5.65685425 2.07894204 1.41421356 2.44948974]\n",
      "[12.  2. 32.  4.  2.  6.]\n",
      "3.141592653589793\n"
     ]
    }
   ],
   "source": [
    "array = np.array([12,2.3,32,4.322,2,6])\n",
    "\n",
    "print(np.sqrt(array))\n",
    "print(np.round(array))\n",
    "print(np.pi)"
   ]
  },
  {
   "cell_type": "code",
   "execution_count": 83,
   "id": "24158062-cd88-4f9e-b1b2-298866b4e2f7",
   "metadata": {},
   "outputs": [
    {
     "name": "stdout",
     "output_type": "stream",
     "text": [
      "[ 3.14159265 12.56637061 28.27433388]\n"
     ]
    }
   ],
   "source": [
    "radi = np.array([1,2,3])\n",
    "\n",
    "print(np.pi * radi ** 2)"
   ]
  },
  {
   "cell_type": "code",
   "execution_count": 82,
   "id": "3e639d8c-5cf6-4ef7-a50c-0d19e4ba4a49",
   "metadata": {},
   "outputs": [],
   "source": [
    "#Element-wise arithematic"
   ]
  },
  {
   "cell_type": "raw",
   "id": "655ad511-e47c-424f-9543-6f677d34ddd4",
   "metadata": {},
   "source": [
    "array1 = np.array([1,2,3])\n",
    "array2 = np.array([4,5,6])\n",
    "\n",
    "print(array1 + array2)"
   ]
  },
  {
   "cell_type": "code",
   "execution_count": null,
   "id": "3747bdb2-4165-4c6c-98d1-fc6c5c09a98f",
   "metadata": {},
   "outputs": [],
   "source": []
  },
  {
   "cell_type": "code",
   "execution_count": null,
   "id": "2f8db30c-c722-4d69-8b69-f93d98b3aa17",
   "metadata": {},
   "outputs": [],
   "source": []
  },
  {
   "cell_type": "code",
   "execution_count": null,
   "id": "52e9d2c2-3f3a-4a43-b7de-83a9d67208a8",
   "metadata": {},
   "outputs": [],
   "source": []
  }
 ],
 "metadata": {
  "kernelspec": {
   "display_name": "Python 3 (ipykernel)",
   "language": "python",
   "name": "python3"
  },
  "language_info": {
   "codemirror_mode": {
    "name": "ipython",
    "version": 3
   },
   "file_extension": ".py",
   "mimetype": "text/x-python",
   "name": "python",
   "nbconvert_exporter": "python",
   "pygments_lexer": "ipython3",
   "version": "3.13.5"
  }
 },
 "nbformat": 4,
 "nbformat_minor": 5
}
