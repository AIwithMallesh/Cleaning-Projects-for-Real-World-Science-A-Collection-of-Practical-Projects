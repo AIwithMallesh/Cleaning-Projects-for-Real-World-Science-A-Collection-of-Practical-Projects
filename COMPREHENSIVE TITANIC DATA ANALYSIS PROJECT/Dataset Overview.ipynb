{
 "cells": [
  {
   "cell_type": "code",
   "execution_count": 2,
   "id": "7b2ce108-2126-4237-996b-a819e1654245",
   "metadata": {},
   "outputs": [
    {
     "name": "stdout",
     "output_type": "stream",
     "text": [
      "Dataset Shape: (891, 12)\n",
      "\n",
      "First 5 rows:\n"
     ]
    },
    {
     "data": {
      "text/html": [
       "<div>\n",
       "<style scoped>\n",
       "    .dataframe tbody tr th:only-of-type {\n",
       "        vertical-align: middle;\n",
       "    }\n",
       "\n",
       "    .dataframe tbody tr th {\n",
       "        vertical-align: top;\n",
       "    }\n",
       "\n",
       "    .dataframe thead th {\n",
       "        text-align: right;\n",
       "    }\n",
       "</style>\n",
       "<table border=\"1\" class=\"dataframe\">\n",
       "  <thead>\n",
       "    <tr style=\"text-align: right;\">\n",
       "      <th></th>\n",
       "      <th>PassengerId</th>\n",
       "      <th>Survived</th>\n",
       "      <th>Pclass</th>\n",
       "      <th>Name</th>\n",
       "      <th>Sex</th>\n",
       "      <th>Age</th>\n",
       "      <th>SibSp</th>\n",
       "      <th>Parch</th>\n",
       "      <th>Ticket</th>\n",
       "      <th>Fare</th>\n",
       "      <th>Cabin</th>\n",
       "      <th>Embarked</th>\n",
       "    </tr>\n",
       "  </thead>\n",
       "  <tbody>\n",
       "    <tr>\n",
       "      <th>0</th>\n",
       "      <td>1</td>\n",
       "      <td>0</td>\n",
       "      <td>3</td>\n",
       "      <td>Braund, Mr. Owen Harris</td>\n",
       "      <td>male</td>\n",
       "      <td>22.0</td>\n",
       "      <td>1</td>\n",
       "      <td>0</td>\n",
       "      <td>A/5 21171</td>\n",
       "      <td>7.2500</td>\n",
       "      <td>NaN</td>\n",
       "      <td>S</td>\n",
       "    </tr>\n",
       "    <tr>\n",
       "      <th>1</th>\n",
       "      <td>2</td>\n",
       "      <td>1</td>\n",
       "      <td>1</td>\n",
       "      <td>Cumings, Mrs. John Bradley (Florence Briggs Th...</td>\n",
       "      <td>female</td>\n",
       "      <td>38.0</td>\n",
       "      <td>1</td>\n",
       "      <td>0</td>\n",
       "      <td>PC 17599</td>\n",
       "      <td>71.2833</td>\n",
       "      <td>C85</td>\n",
       "      <td>C</td>\n",
       "    </tr>\n",
       "    <tr>\n",
       "      <th>2</th>\n",
       "      <td>3</td>\n",
       "      <td>1</td>\n",
       "      <td>3</td>\n",
       "      <td>Heikkinen, Miss. Laina</td>\n",
       "      <td>female</td>\n",
       "      <td>26.0</td>\n",
       "      <td>0</td>\n",
       "      <td>0</td>\n",
       "      <td>STON/O2. 3101282</td>\n",
       "      <td>7.9250</td>\n",
       "      <td>NaN</td>\n",
       "      <td>S</td>\n",
       "    </tr>\n",
       "    <tr>\n",
       "      <th>3</th>\n",
       "      <td>4</td>\n",
       "      <td>1</td>\n",
       "      <td>1</td>\n",
       "      <td>Futrelle, Mrs. Jacques Heath (Lily May Peel)</td>\n",
       "      <td>female</td>\n",
       "      <td>35.0</td>\n",
       "      <td>1</td>\n",
       "      <td>0</td>\n",
       "      <td>113803</td>\n",
       "      <td>53.1000</td>\n",
       "      <td>C123</td>\n",
       "      <td>S</td>\n",
       "    </tr>\n",
       "    <tr>\n",
       "      <th>4</th>\n",
       "      <td>5</td>\n",
       "      <td>0</td>\n",
       "      <td>3</td>\n",
       "      <td>Allen, Mr. William Henry</td>\n",
       "      <td>male</td>\n",
       "      <td>35.0</td>\n",
       "      <td>0</td>\n",
       "      <td>0</td>\n",
       "      <td>373450</td>\n",
       "      <td>8.0500</td>\n",
       "      <td>NaN</td>\n",
       "      <td>S</td>\n",
       "    </tr>\n",
       "  </tbody>\n",
       "</table>\n",
       "</div>"
      ],
      "text/plain": [
       "   PassengerId  Survived  Pclass  \\\n",
       "0            1         0       3   \n",
       "1            2         1       1   \n",
       "2            3         1       3   \n",
       "3            4         1       1   \n",
       "4            5         0       3   \n",
       "\n",
       "                                                Name     Sex   Age  SibSp  \\\n",
       "0                            Braund, Mr. Owen Harris    male  22.0      1   \n",
       "1  Cumings, Mrs. John Bradley (Florence Briggs Th...  female  38.0      1   \n",
       "2                             Heikkinen, Miss. Laina  female  26.0      0   \n",
       "3       Futrelle, Mrs. Jacques Heath (Lily May Peel)  female  35.0      1   \n",
       "4                           Allen, Mr. William Henry    male  35.0      0   \n",
       "\n",
       "   Parch            Ticket     Fare Cabin Embarked  \n",
       "0      0         A/5 21171   7.2500   NaN        S  \n",
       "1      0          PC 17599  71.2833   C85        C  \n",
       "2      0  STON/O2. 3101282   7.9250   NaN        S  \n",
       "3      0            113803  53.1000  C123        S  \n",
       "4      0            373450   8.0500   NaN        S  "
      ]
     },
     "execution_count": 2,
     "metadata": {},
     "output_type": "execute_result"
    }
   ],
   "source": [
    "# Initial setup and data loading\n",
    "import pandas as pd\n",
    "import numpy as np\n",
    "import matplotlib.pyplot as plt\n",
    "import seaborn as sns\n",
    "from sklearn.preprocessing import StandardScaler, LabelEncoder\n",
    "from sklearn.impute import SimpleImputer, KNNImputer\n",
    "import warnings\n",
    "warnings.filterwarnings('ignore')\n",
    "\n",
    "# Load the dataset\n",
    "url = \"https://raw.githubusercontent.com/datasciencedojo/datasets/master/titanic.csv\"\n",
    "df = pd.read_csv(url)\n",
    "\n",
    "print(\"Dataset Shape:\", df.shape)\n",
    "print(\"\\nFirst 5 rows:\")\n",
    "df.head()"
   ]
  },
  {
   "cell_type": "code",
   "execution_count": null,
   "id": "6c8db1f0-c8fd-4d22-8989-31c5354e1249",
   "metadata": {},
   "outputs": [],
   "source": [
    "#Missing Data"
   ]
  },
  {
   "cell_type": "code",
   "execution_count": 3,
   "id": "c634510e-4294-46a0-9fb3-98cfac24efef",
   "metadata": {},
   "outputs": [
    {
     "name": "stdout",
     "output_type": "stream",
     "text": [
      "Missing Value Analysis:\n",
      "          Missing_Count  Missing_Percentage Data_Type\n",
      "Age                 177           19.865320   float64\n",
      "Cabin               687           77.104377    object\n",
      "Embarked              2            0.224467    object\n"
     ]
    }
   ],
   "source": [
    "def analyze_missing_data(df):\n",
    "    missing_info = pd.DataFrame({\n",
    "        'Missing_Count': df.isnull().sum(),\n",
    "        'Missing_Percentage': (df.isnull().sum() / len(df)) * 100,\n",
    "        'Data_Type': df.dtypes\n",
    "    })\n",
    "    return missing_info[missing_info['Missing_Count'] > 0]\n",
    "\n",
    "missing_analysis = analyze_missing_data(df)\n",
    "print(\"Missing Value Analysis:\")\n",
    "print(missing_analysis)"
   ]
  },
  {
   "cell_type": "code",
   "execution_count": null,
   "id": "5a673ffb-701a-4d61-95c8-8b344b68f919",
   "metadata": {},
   "outputs": [],
   "source": [
    "#Handling missing data"
   ]
  },
  {
   "cell_type": "code",
   "execution_count": 6,
   "id": "09ac9e7f-8618-42c4-beee-f534c7b2a442",
   "metadata": {},
   "outputs": [
    {
     "name": "stdout",
     "output_type": "stream",
     "text": [
      "Before Age imputation:\n",
      "Mean Age: 29.70\n",
      "Median Age: 28.00\n",
      "\n",
      "After Age imputation - Comparison:\n",
      "    Age  Age_median  Age_group    Age_knn\n",
      "0  22.0        22.0       22.0  22.000000\n",
      "1  38.0        38.0       38.0  38.000000\n",
      "2  26.0        26.0       26.0  26.000000\n",
      "3  35.0        35.0       35.0  35.000000\n",
      "4  35.0        35.0       35.0  35.000000\n",
      "5   NaN        28.0       25.0  29.699118\n",
      "6  54.0        54.0       54.0  54.000000\n",
      "7   2.0         2.0        2.0   2.000000\n",
      "8  27.0        27.0       27.0  27.000000\n",
      "9  14.0        14.0       14.0  14.000000\n"
     ]
    }
   ],
   "source": [
    "# Create a copy for cleaning\n",
    "df_clean = df.copy()\n",
    "\n",
    "# Strategy 1: Impute Age (Multiple Methods)\n",
    "print(\"Before Age imputation:\")\n",
    "print(f\"Mean Age: {df_clean['Age'].mean():.2f}\")\n",
    "print(f\"Median Age: {df_clean['Age'].median():.2f}\")\n",
    "\n",
    "# Method A: Mean/Median Imputation\n",
    "age_imputer = SimpleImputer(strategy='median')\n",
    "df_clean['Age_median'] = age_imputer.fit_transform(df_clean[['Age']])\n",
    "\n",
    "# Method B: Group-based Imputation (More sophisticated)\n",
    "df_clean['Age_group'] = df_clean.groupby(['Pclass', 'Sex'])['Age'].transform(\n",
    "    lambda x: x.fillna(x.median()))\n",
    "\n",
    "# Method C: KNN Imputation (Advanced)\n",
    "knn_imputer = KNNImputer(n_neighbors=5)\n",
    "df_clean['Age_knn'] = knn_imputer.fit_transform(df_clean[['Age']])[:, 0]\n",
    "\n",
    "print(\"\\nAfter Age imputation - Comparison:\")\n",
    "print(df_clean[['Age', 'Age_median', 'Age_group', 'Age_knn']].head(10))"
   ]
  },
  {
   "cell_type": "code",
   "execution_count": null,
   "id": "b0fa482c-3100-4b70-8ab7-27892b9a2263",
   "metadata": {},
   "outputs": [],
   "source": [
    "#Handle Cabin Missing Values"
   ]
  },
  {
   "cell_type": "code",
   "execution_count": 7,
   "id": "eb67e65a-f040-4dea-a9e2-49c04e40f0d1",
   "metadata": {},
   "outputs": [
    {
     "name": "stdout",
     "output_type": "stream",
     "text": [
      "\n",
      "Cabin Information Extraction:\n",
      "Deck\n",
      "Unknown    687\n",
      "C           59\n",
      "B           47\n",
      "D           33\n",
      "E           32\n",
      "A           15\n",
      "F           13\n",
      "G            4\n",
      "T            1\n",
      "Name: count, dtype: int64\n"
     ]
    }
   ],
   "source": [
    "# Cabin has too many missing values - creative approach\n",
    "df_clean['Has_Cabin'] = df_clean['Cabin'].notna().astype(int)\n",
    "df_clean['Deck'] = df_clean['Cabin'].str[0]  # Extract deck from cabin\n",
    "df_clean['Deck'] = df_clean['Deck'].fillna('Unknown')\n",
    "\n",
    "print(\"\\nCabin Information Extraction:\")\n",
    "print(df_clean['Deck'].value_counts())"
   ]
  },
  {
   "cell_type": "code",
   "execution_count": null,
   "id": "bd404208-fa97-453f-9bb2-16eacbb1622e",
   "metadata": {},
   "outputs": [],
   "source": [
    "#Handle Embarked Missing Values"
   ]
  },
  {
   "cell_type": "code",
   "execution_count": 8,
   "id": "20968eee-0bbd-4f5e-a5c0-326dfa0782fb",
   "metadata": {},
   "outputs": [
    {
     "name": "stdout",
     "output_type": "stream",
     "text": [
      "Embarked missing values after: 0\n"
     ]
    }
   ],
   "source": [
    "# Only 2 missing values - use mode (most frequent)\n",
    "embarked_mode = df_clean['Embarked'].mode()[0]\n",
    "df_clean['Embarked'] = df_clean['Embarked'].fillna(embarked_mode)\n",
    "\n",
    "print(f\"Embarked missing values after: {df_clean['Embarked'].isnull().sum()}\")"
   ]
  },
  {
   "cell_type": "code",
   "execution_count": null,
   "id": "88637789-8503-4ba0-8442-b2f955080d7b",
   "metadata": {},
   "outputs": [],
   "source": [
    "#Inconsistent Formatting - Standardization"
   ]
  },
  {
   "cell_type": "code",
   "execution_count": 9,
   "id": "d4b7aed3-1986-4589-8ce3-94751de1e5d6",
   "metadata": {},
   "outputs": [
    {
     "name": "stdout",
     "output_type": "stream",
     "text": [
      "Name formatting examples:\n",
      "0                              Braund, Mr. Owen Harris\n",
      "1    Cumings, Mrs. John Bradley (Florence Briggs Th...\n",
      "2                               Heikkinen, Miss. Laina\n",
      "Name: Name, dtype: object\n"
     ]
    }
   ],
   "source": [
    "# Standardize text columns\n",
    "df_clean['Name'] = df_clean['Name'].str.title()\n",
    "df_clean['Sex'] = df_clean['Sex'].str.lower()\n",
    "df_clean['Ticket'] = df_clean['Ticket'].str.upper()\n",
    "\n",
    "print(\"Name formatting examples:\")\n",
    "print(df_clean['Name'].head(3))"
   ]
  },
  {
   "cell_type": "code",
   "execution_count": 10,
   "id": "e66a8bc7-07d6-4e99-a0ca-e71de6b0054c",
   "metadata": {},
   "outputs": [],
   "source": [
    "#Create Consistent New Features"
   ]
  },
  {
   "cell_type": "code",
   "execution_count": 11,
   "id": "4480e73c-f172-4264-9a2b-8b47e127252b",
   "metadata": {},
   "outputs": [
    {
     "name": "stdout",
     "output_type": "stream",
     "text": [
      "\n",
      "Standardized Titles:\n",
      "Title\n",
      "Mr    891\n",
      "Name: count, dtype: int64\n"
     ]
    }
   ],
   "source": [
    "# Extract title from name (standardizing honorifics)\n",
    "df_clean['Title'] = df_clean['Name'].str.extract(' ([A-Za-z]+)\\.', expand=False)\n",
    "\n",
    "# Standardize titles\n",
    "title_mapping = {\n",
    "    'Mlle': 'Miss', 'Ms': 'Miss', 'Mme': 'Mrs', \n",
    "    'Dr': 'Rare', 'Rev': 'Rare', 'Col': 'Rare',\n",
    "    'Major': 'Rare', 'Countess': 'Rare', 'Sir': 'Rare',\n",
    "    'Lady': 'Rare', 'Don': 'Rare', 'Dona': 'Rare',\n",
    "    'Jonkheer': 'Rare', 'Capt': 'Rare'\n",
    "}\n",
    "df_clean['Title'] = df_clean['Title'].replace(title_mapping)\n",
    "df_clean['Title'] = df_clean['Title'].replace(['Mr', 'Miss', 'Mrs', 'Master', 'Rare'])\n",
    "\n",
    "print(\"\\nStandardized Titles:\")\n",
    "print(df_clean['Title'].value_counts())"
   ]
  },
  {
   "cell_type": "code",
   "execution_count": null,
   "id": "e564a144-a801-4282-ad16-fb257e7a1776",
   "metadata": {},
   "outputs": [],
   "source": [
    "#Detect Outliers in Numerical Features"
   ]
  },
  {
   "cell_type": "code",
   "execution_count": 12,
   "id": "46df7c7c-6104-4af0-9453-970175701b3e",
   "metadata": {},
   "outputs": [
    {
     "name": "stdout",
     "output_type": "stream",
     "text": [
      "Outliers Analysis:\n",
      "Age: 11 outliers (1.23%)\n",
      "Fare: 116 outliers (13.02%)\n",
      "SibSp: 46 outliers (5.16%)\n",
      "Parch: 213 outliers (23.91%)\n"
     ]
    }
   ],
   "source": [
    "# Select numerical columns\n",
    "numerical_cols = ['Age', 'Fare', 'SibSp', 'Parch']\n",
    "\n",
    "def detect_outliers_iqr(df, columns):\n",
    "    outliers_info = {}\n",
    "    for col in columns:\n",
    "        Q1 = df[col].quantile(0.25)\n",
    "        Q3 = df[col].quantile(0.75)\n",
    "        IQR = Q3 - Q1\n",
    "        lower_bound = Q1 - 1.5 * IQR\n",
    "        upper_bound = Q3 + 1.5 * IQR\n",
    "        \n",
    "        outliers = df[(df[col] < lower_bound) | (df[col] > upper_bound)]\n",
    "        outliers_info[col] = {\n",
    "            'count': len(outliers),\n",
    "            'percentage': (len(outliers) / len(df)) * 100,\n",
    "            'lower_bound': lower_bound,\n",
    "            'upper_bound': upper_bound\n",
    "        }\n",
    "    return outliers_info\n",
    "\n",
    "outliers_analysis = detect_outliers_iqr(df_clean, numerical_cols)\n",
    "print(\"Outliers Analysis:\")\n",
    "for col, info in outliers_analysis.items():\n",
    "    print(f\"{col}: {info['count']} outliers ({info['percentage']:.2f}%)\")"
   ]
  },
  {
   "cell_type": "code",
   "execution_count": null,
   "id": "f8c96993-64f6-4e30-a37e-bb654f215a62",
   "metadata": {},
   "outputs": [],
   "source": [
    "#Visualize Outliers"
   ]
  },
  {
   "cell_type": "code",
   "execution_count": 14,
   "id": "96fb9b5b-23b0-4772-bea0-aba32c39f265",
   "metadata": {},
   "outputs": [
    {
     "data": {
      "image/png": "[encoded data removed]",
      "text/plain": [
       "<Figure size 1500x1000 with 4 Axes>"
      ]
     },
     "metadata": {},
     "output_type": "display_data"
    }
   ],
   "source": [
    "# Create boxplots for outlier visualization\n",
    "plt.figure(figsize=(15, 10))\n",
    "for i, col in enumerate(numerical_cols, 1):\n",
    "    plt.subplot(2, 2, i)\n",
    "    sns.boxplot(y=df_clean[col])\n",
    "    plt.title(f'Boxplot of {col}')\n",
    "plt.tight_layout()\n",
    "plt.show()"
   ]
  },
  {
   "cell_type": "code",
   "execution_count": null,
   "id": "50b55932-d6d7-4789-8e0f-20bb6c6bd597",
   "metadata": {},
   "outputs": [],
   "source": [
    "#Treat Outliers"
   ]
  },
  {
   "cell_type": "code",
   "execution_count": 15,
   "id": "1e354b43-6c1e-4b9c-b1d3-8fb9df04a4dc",
   "metadata": {},
   "outputs": [
    {
     "name": "stdout",
     "output_type": "stream",
     "text": [
      "Fare before and after treatment:\n",
      "Original - Max: 512.33, 95th percentile: 112.08\n",
      "Capped - Max: 112.08\n"
     ]
    }
   ],
   "source": [
    "# Strategy 1: Capping for Fare (extreme values)\n",
    "fare_q95 = df_clean['Fare'].quantile(0.95)\n",
    "df_clean['Fare_capped'] = np.where(df_clean['Fare'] > fare_q95, fare_q95, df_clean['Fare'])\n",
    "\n",
    "# Strategy 2: Log transformation for Fare\n",
    "df_clean['Fare_log'] = np.log1p(df_clean['Fare'])\n",
    "\n",
    "# Strategy 3: Binning for Age (alternative to capping)\n",
    "df_clean['Age_binned'] = pd.cut(df_clean['Age'], bins=[0, 12, 18, 35, 60, 100], \n",
    "                               labels=['Child', 'Teen', 'Adult', 'Middle', 'Senior'])\n",
    "\n",
    "print(\"Fare before and after treatment:\")\n",
    "print(f\"Original - Max: {df_clean['Fare'].max():.2f}, 95th percentile: {fare_q95:.2f}\")\n",
    "print(f\"Capped - Max: {df_clean['Fare_capped'].max():.2f}\")"
   ]
  },
  {
   "cell_type": "code",
   "execution_count": null,
   "id": "eac0c698-72be-4fc2-8947-6a2c67b29ae4",
   "metadata": {},
   "outputs": [],
   "source": [
    "#Duplicate Records - Identification & Removal"
   ]
  },
  {
   "cell_type": "code",
   "execution_count": 16,
   "id": "41b0aa90-17c8-4898-a0e4-0be5fa95df7a",
   "metadata": {},
   "outputs": [
    {
     "name": "stdout",
     "output_type": "stream",
     "text": [
      "Exact duplicates: 0\n",
      "Potential duplicates (based on key columns): 0\n"
     ]
    }
   ],
   "source": [
    "# Check for exact duplicates\n",
    "exact_duplicates = df_clean.duplicated().sum()\n",
    "print(f\"Exact duplicates: {exact_duplicates}\")\n",
    "\n",
    "# Check for duplicates based on key columns\n",
    "key_columns = ['Name', 'Age', 'Sex', 'Pclass']\n",
    "potential_duplicates = df_clean.duplicated(subset=key_columns, keep=False).sum()\n",
    "print(f\"Potential duplicates (based on key columns): {potential_duplicates}\")\n",
    "\n",
    "if potential_duplicates > 0:\n",
    "    print(\"\\nPotential duplicate records:\")\n",
    "    duplicates_df = df_clean[df_clean.duplicated(subset=key_columns, keep=False)]\n",
    "    print(duplicates_df[['Name', 'Age', 'Sex', 'Pclass']].sort_values('Name').head(6))"
   ]
  },
  {
   "cell_type": "code",
   "execution_count": null,
   "id": "0ad19152-033e-4714-b91e-2606fef36583",
   "metadata": {},
   "outputs": [],
   "source": [
    "# Handle Duplicates"
   ]
  },
  {
   "cell_type": "code",
   "execution_count": 17,
   "id": "62ddda92-2da3-47e1-bf66-d792e233358c",
   "metadata": {},
   "outputs": [
    {
     "name": "stdout",
     "output_type": "stream",
     "text": [
      "Dataset shape after duplicate removal: (891, 21)\n"
     ]
    }
   ],
   "source": [
    "# Remove exact duplicates (if any)\n",
    "df_clean = df_clean.drop_duplicates()\n",
    "\n",
    "# For potential duplicates, we might keep the first occurrence\n",
    "df_clean = df_clean.drop_duplicates(subset=key_columns, keep='first')\n",
    "\n",
    "print(f\"Dataset shape after duplicate removal: {df_clean.shape}\")"
   ]
  },
  {
   "cell_type": "code",
   "execution_count": null,
   "id": "3cf10e07-45d9-4174-8b0b-e720f0f13e06",
   "metadata": {},
   "outputs": [],
   "source": [
    "#Data Type Mismatch - Correction & Identify the datatype issue"
   ]
  },
  {
   "cell_type": "code",
   "execution_count": 18,
   "id": "d6650365-e8a8-424d-91a5-35606e3b62e8",
   "metadata": {},
   "outputs": [
    {
     "name": "stdout",
     "output_type": "stream",
     "text": [
      "Current Data Types:\n",
      "PassengerId       int64\n",
      "Survived          int64\n",
      "Pclass            int64\n",
      "Name             object\n",
      "Sex              object\n",
      "Age             float64\n",
      "SibSp             int64\n",
      "Parch             int64\n",
      "Ticket           object\n",
      "Fare            float64\n",
      "Cabin            object\n",
      "Embarked         object\n",
      "Age_median      float64\n",
      "Age_group       float64\n",
      "Age_knn         float64\n",
      "Has_Cabin         int64\n",
      "Deck             object\n",
      "Title            object\n",
      "Fare_capped     float64\n",
      "Fare_log        float64\n",
      "Age_binned     category\n",
      "dtype: object\n",
      "\n",
      "Sample data for type validation:\n",
      "    Age     Fare     Sex Embarked\n",
      "0  22.0   7.2500    male        S\n",
      "1  38.0  71.2833  female        C\n",
      "2  26.0   7.9250  female        S\n"
     ]
    }
   ],
   "source": [
    "print(\"Current Data Types:\")\n",
    "print(df_clean.dtypes)\n",
    "print(\"\\nSample data for type validation:\")\n",
    "print(df_clean[['Age', 'Fare', 'Sex', 'Embarked']].head(3))"
   ]
  },
  {
   "cell_type": "code",
   "execution_count": null,
   "id": "bcac417c-e0f7-4f63-b2b8-88598ad3acc0",
   "metadata": {},
   "outputs": [],
   "source": [
    "#Correct Data Types"
   ]
  },
  {
   "cell_type": "code",
   "execution_count": 20,
   "id": "a11363b4-540d-491b-bf9f-e3a73936dc6c",
   "metadata": {},
   "outputs": [
    {
     "name": "stdout",
     "output_type": "stream",
     "text": [
      "\n",
      "Corrected Data Types:\n",
      "PassengerId       int64\n",
      "Survived       category\n",
      "Pclass         category\n",
      "Name             object\n",
      "Sex            category\n",
      "Age             float64\n",
      "SibSp             int64\n",
      "Parch             int64\n",
      "Ticket           object\n",
      "Fare            float64\n",
      "Cabin            object\n",
      "Embarked       category\n",
      "Age_median      float64\n",
      "Age_group       float64\n",
      "Age_knn         float64\n",
      "Has_Cabin         int64\n",
      "Deck             object\n",
      "Title          category\n",
      "Fare_capped     float64\n",
      "Fare_log        float64\n",
      "Age_binned     category\n",
      "dtype: object\n"
     ]
    }
   ],
   "source": [
    "# Convert to proper data types\n",
    "df_clean['Pclass'] = df_clean['Pclass'].astype('category')\n",
    "df_clean['Sex'] = df_clean['Sex'].astype('category')\n",
    "df_clean['Embarked'] = df_clean['Embarked'].astype('category')\n",
    "df_clean['Survived'] = df_clean['Survived'].astype('category')\n",
    "df_clean['Title'] = df_clean['Title'].astype('category')\n",
    "\n",
    "# Ensure numerical columns are proper\n",
    "df_clean['Age'] = pd.to_numeric(df_clean['Age'], errors='coerce')\n",
    "df_clean['Fare'] = pd.to_numeric(df_clean['Fare'], errors='coerce')\n",
    "\n",
    "print(\"\\nCorrected Data Types:\")\n",
    "print(df_clean.dtypes)"
   ]
  },
  {
   "cell_type": "code",
   "execution_count": null,
   "id": "b5e6c66e-7fb6-476a-b62c-0864b6af192f",
   "metadata": {},
   "outputs": [],
   "source": [
    "# Feature Engineering & Final Cleaning  ----  Create New Meaningful Features"
   ]
  },
  {
   "cell_type": "code",
   "execution_count": 21,
   "id": "717cb35e-89fa-4a15-993a-d1657023e6cf",
   "metadata": {},
   "outputs": [
    {
     "name": "stdout",
     "output_type": "stream",
     "text": [
      "New features created:\n",
      "   FamilySize  IsAlone     AgeGroup  FarePerPerson\n",
      "0           2        0  Young Adult        3.62500\n",
      "1           2        0       Middle       35.64165\n",
      "2           1        1  Young Adult        7.92500\n",
      "3           2        0  Young Adult       26.55000\n",
      "4           1        1  Young Adult        8.05000\n"
     ]
    }
   ],
   "source": [
    "# Family size feature\n",
    "df_clean['FamilySize'] = df_clean['SibSp'] + df_clean['Parch'] + 1\n",
    "df_clean['IsAlone'] = (df_clean['FamilySize'] == 1).astype(int)\n",
    "\n",
    "# Age groups\n",
    "df_clean['AgeGroup'] = pd.cut(df_clean['Age'], \n",
    "                             bins=[0, 12, 18, 35, 60, 100],\n",
    "                             labels=['Child', 'Teen', 'Young Adult', 'Middle', 'Senior'])\n",
    "\n",
    "# Fare per person\n",
    "df_clean['FarePerPerson'] = df_clean['Fare'] / df_clean['FamilySize']\n",
    "\n",
    "print(\"New features created:\")\n",
    "print(df_clean[['FamilySize', 'IsAlone', 'AgeGroup', 'FarePerPerson']].head())"
   ]
  },
  {
   "cell_type": "code",
   "execution_count": 21,
   "id": "ee67cc1e-e30e-4c8e-bc4f-11d3163f589c",
   "metadata": {},
   "outputs": [
    {
     "name": "stdout",
     "output_type": "stream",
     "text": [
      "New features created:\n",
      "   FamilySize  IsAlone     AgeGroup  FarePerPerson\n",
      "0           2        0  Young Adult        3.62500\n",
      "1           2        0       Middle       35.64165\n",
      "2           1        1  Young Adult        7.92500\n",
      "3           2        0  Young Adult       26.55000\n",
      "4           1        1  Young Adult        8.05000\n"
     ]
    }
   ],
   "source": [
    "# Family size feature\n",
    "df_clean['FamilySize'] = df_clean['SibSp'] + df_clean['Parch'] + 1\n",
    "df_clean['IsAlone'] = (df_clean['FamilySize'] == 1).astype(int)\n",
    "\n",
    "# Age groups\n",
    "df_clean['AgeGroup'] = pd.cut(df_clean['Age'], \n",
    "                             bins=[0, 12, 18, 35, 60, 100],\n",
    "                             labels=['Child', 'Teen', 'Young Adult', 'Middle', 'Senior'])\n",
    "\n",
    "# Fare per person\n",
    "df_clean['FarePerPerson'] = df_clean['Fare'] / df_clean['FamilySize']\n",
    "\n",
    "print(\"New features created:\")\n",
    "print(df_clean[['FamilySize', 'IsAlone', 'AgeGroup', 'FarePerPerson']].head())"
   ]
  },
  {
   "cell_type": "code",
   "execution_count": 22,
   "id": "77906f1a-9d6d-424d-b8c5-28ec201babec",
   "metadata": {},
   "outputs": [],
   "source": [
    "#Final Data Quality Check"
   ]
  },
  {
   "cell_type": "code",
   "execution_count": 23,
   "id": "336e061a-2506-401d-94f3-3ae2df17b6e9",
   "metadata": {},
   "outputs": [
    {
     "name": "stdout",
     "output_type": "stream",
     "text": [
      "Final Data Quality Report:\n",
      "Total Records: 891\n",
      "Total Features: 25\n",
      "Missing Values: 1218\n",
      "Duplicate Rows: 0\n",
      "Data Types: {dtype('float64'): 8, dtype('int64'): 6, dtype('O'): 4, CategoricalDtype(categories=[0, 1], ordered=False, categories_dtype=int64): 1, CategoricalDtype(categories=[1, 2, 3], ordered=False, categories_dtype=int64): 1, CategoricalDtype(categories=['female', 'male'], ordered=False, categories_dtype=object): 1, CategoricalDtype(categories=['C', 'Q', 'S'], ordered=False, categories_dtype=object): 1, CategoricalDtype(categories=['Mr'], ordered=False, categories_dtype=object): 1, CategoricalDtype(categories=['Child', 'Teen', 'Adult', 'Middle', 'Senior'], ordered=True, categories_dtype=object): 1, CategoricalDtype(categories=['Child', 'Teen', 'Young Adult', 'Middle', 'Senior'], ordered=True, categories_dtype=object): 1}\n"
     ]
    }
   ],
   "source": [
    "def final_data_quality_report(df):\n",
    "    report = {\n",
    "        'Total Records': len(df),\n",
    "        'Total Features': len(df.columns),\n",
    "        'Missing Values': df.isnull().sum().sum(),\n",
    "        'Duplicate Rows': df.duplicated().sum(),\n",
    "        'Data Types': df.dtypes.value_counts().to_dict()\n",
    "    }\n",
    "    return report\n",
    "\n",
    "final_report = final_data_quality_report(df_clean)\n",
    "print(\"Final Data Quality Report:\")\n",
    "for key, value in final_report.items():\n",
    "    print(f\"{key}: {value}\")"
   ]
  },
  {
   "cell_type": "code",
   "execution_count": 24,
   "id": "f4c75158-470a-4b8b-b95f-f728a7cd22f2",
   "metadata": {},
   "outputs": [],
   "source": [
    "#Where Each Technique is Used in ML Pipeline"
   ]
  },
  {
   "cell_type": "code",
   "execution_count": 25,
   "id": "0515d565-b2d1-4be6-9b60-148c78378a68",
   "metadata": {},
   "outputs": [
    {
     "name": "stdout",
     "output_type": "stream",
     "text": [
      "Complete Preprocessing Pipeline Created!\n",
      "This pipeline can now be used with any ML model\n"
     ]
    }
   ],
   "source": [
    "# Complete preprocessing pipeline demonstration\n",
    "from sklearn.pipeline import Pipeline\n",
    "from sklearn.compose import ColumnTransformer\n",
    "from sklearn.preprocessing import OneHotEncoder, StandardScaler\n",
    "\n",
    "# Separate features and target\n",
    "X = df_clean.drop('Survived', axis=1)\n",
    "y = df_clean['Survived']\n",
    "\n",
    "# Define numerical and categorical features\n",
    "numerical_features = ['Age', 'Fare', 'SibSp', 'Parch', 'FamilySize']\n",
    "categorical_features = ['Pclass', 'Sex', 'Embarked', 'Title']\n",
    "\n",
    "# Create preprocessing pipelines\n",
    "numerical_transformer = Pipeline(steps=[\n",
    "    ('imputer', SimpleImputer(strategy='median')),\n",
    "    ('scaler', StandardScaler())\n",
    "])\n",
    "\n",
    "categorical_transformer = Pipeline(steps=[\n",
    "    ('imputer', SimpleImputer(strategy='most_frequent')),\n",
    "    ('onehot', OneHotEncoder(handle_unknown='ignore'))\n",
    "])\n",
    "\n",
    "# Combine preprocessing steps\n",
    "preprocessor = ColumnTransformer(\n",
    "    transformers=[\n",
    "        ('num', numerical_transformer, numerical_features),\n",
    "        ('cat', categorical_transformer, categorical_features)\n",
    "    ])\n",
    "\n",
    "print(\"Complete Preprocessing Pipeline Created!\")\n",
    "print(\"This pipeline can now be used with any ML model\")"
   ]
  },
  {
   "cell_type": "code",
   "execution_count": null,
   "id": "81296fe8-146c-483a-ac35-2ec136805c6d",
   "metadata": {},
   "outputs": [],
   "source": []
  }
 ],
 "metadata": {
  "kernelspec": {
   "display_name": "Python 3 (ipykernel)",
   "language": "python",
   "name": "python3"
  },
  "language_info": {
   "codemirror_mode": {
    "name": "ipython",
    "version": 3
   },
   "file_extension": ".py",
   "mimetype": "text/x-python",
   "name": "python",
   "nbconvert_exporter": "python",
   "pygments_lexer": "ipython3",
   "version": "3.13.5"
  }
 },
 "nbformat": 4,
 "nbformat_minor": 5
}
