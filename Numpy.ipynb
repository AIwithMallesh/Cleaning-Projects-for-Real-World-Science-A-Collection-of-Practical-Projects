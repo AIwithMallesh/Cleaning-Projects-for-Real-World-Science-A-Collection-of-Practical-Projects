{
 "cells": [
  {
   "cell_type": "code",
   "execution_count": 15,
   "id": "99ce8d6b-aea4-4a57-8958-3fd5e5a72d53",
   "metadata": {},
   "outputs": [
    {
     "name": "stdout",
     "output_type": "stream",
     "text": [
      "int64\n"
     ]
    }
   ],
   "source": [
    "import numpy as np\n",
    "\n",
    "array = np.array([[1,2,3,4,56],[22,34,5,6,7]])\n",
    "print(array.dtype)"
   ]
  },
  {
   "cell_type": "code",
   "execution_count": 17,
   "id": "4d2bfdb2-4db1-47b0-bf14-5aefa8473027",
   "metadata": {},
   "outputs": [
    {
     "name": "stdout",
     "output_type": "stream",
     "text": [
      "Boolean mask (arr > 5): [False  True False  True False  True False  True]\n",
      "Elements greater than 5: [ 6  8  9 10]\n",
      "Even numbers: [ 6  2  8  4 10]\n"
     ]
    }
   ],
   "source": [
    "\n",
    "\n",
    "arr = np.array([1, 6, 2, 8, 3, 9, 4, 10])\n",
    "\n",
    "# 1. Create the condition\n",
    "conditionn = arr > 5\n",
    "print(f\"Boolean mask (arr > 5): {conditionn}\")\n",
    "\n",
    "# 2. Use the mask to filter the array\n",
    "filtered_arr = arr[conditionn]\n",
    "print(f\"Elements greater than 5: {filtered_arr}\")\n",
    "\n",
    "# You can do it in one line\n",
    "print(f\"Even numbers: {arr[arr % 2 == 0]}\")"
   ]
  },
  {
   "cell_type": "code",
   "execution_count": null,
   "id": "e67bee3e-37f0-422e-bd9a-97c31a1cc181",
   "metadata": {},
   "outputs": [],
   "source": []
  },
  {
   "cell_type": "code",
   "execution_count": 26,
   "id": "54162740-511f-49ac-b890-65ada5fc51dd",
   "metadata": {},
   "outputs": [
    {
     "name": "stdout",
     "output_type": "stream",
     "text": [
      "25\n",
      "Square of arr: 625\n",
      "Exponential of arr: 72004899337.38588\n",
      "Sine of arr: -0.13235175009777303\n",
      "Logarithm of arr: 3.2188758248682006\n"
     ]
    }
   ],
   "source": [
    "\n",
    "arr = np.array(25)\n",
    "print(arr)\n",
    "\n",
    "# Common mathematical ufuncs\n",
    "print(f\"Square of arr: {np.square(arr)}\")\n",
    "print(f\"Exponential of arr: {np.exp(arr)}\")\n",
    "print(f\"Sine of arr: {np.sin(arr)}\")\n",
    "print(f\"Logarithm of arr: {np.log(arr)}\")"
   ]
  }
 ],
 "metadata": {
  "kernelspec": {
   "display_name": "Python 3 (ipykernel)",
   "language": "python",
   "name": "python3"
  },
  "language_info": {
   "codemirror_mode": {
    "name": "ipython",
    "version": 3
   },
   "file_extension": ".py",
   "mimetype": "text/x-python",
   "name": "python",
   "nbconvert_exporter": "python",
   "pygments_lexer": "ipython3",
   "version": "3.13.5"
  }
 },
 "nbformat": 4,
 "nbformat_minor": 5
}
