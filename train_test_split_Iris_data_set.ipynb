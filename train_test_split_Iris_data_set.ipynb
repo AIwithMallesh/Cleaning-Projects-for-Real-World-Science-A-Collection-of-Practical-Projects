{
 "cells": [
  {
   "cell_type": "code",
   "execution_count": 1,
   "id": "f5301901-efae-4c55-9110-0190d840138b",
   "metadata": {},
   "outputs": [],
   "source": [
    "#Iris data set"
   ]
  },
  {
   "cell_type": "code",
   "execution_count": null,
   "id": "dde4a054-d56a-41de-a3d8-c8ba90b81315",
   "metadata": {},
   "outputs": [],
   "source": []
  },
  {
   "cell_type": "code",
   "execution_count": 2,
   "id": "c1dc7d96-a192-4010-8979-3e22fe5ef8bc",
   "metadata": {},
   "outputs": [
    {
     "name": "stdout",
     "output_type": "stream",
     "text": [
      "Model accuracy on unseen test data: 100.00%\n"
     ]
    }
   ],
   "source": [
    "from sklearn.datasets import load_iris\n",
    "from sklearn.model_selection import train_test_split\n",
    "from sklearn.neighbors import KNeighborsClassifier\n",
    "from sklearn.metrics import accuracy_score\n",
    "\n",
    "# 1. Load Data\n",
    "iris = load_iris()\n",
    "X, y = iris.data, iris.target\n",
    "\n",
    "# 2. Split Data into Training and Testing sets\n",
    "# test_size=0.3 means 30% of data is for testing, 70% for training\n",
    "# random_state ensures the split is the same every time we run the code\n",
    "X_train, X_test, y_train, y_test = train_test_split(\n",
    "    X, y, test_size=0.3, random_state=42\n",
    ")\n",
    "\n",
    "# 3. Initialize Model\n",
    "knn = KNeighborsClassifier(n_neighbors=3)\n",
    "\n",
    "# 4. Train the Model (ONLY on the training data)\n",
    "knn.fit(X_train, y_train)\n",
    "\n",
    "# 5. Make Predictions (ONLY on the testing data)\n",
    "y_pred = knn.predict(X_test)\n",
    "\n",
    "# 6. Evaluate the Model\n",
    "# Compare predictions against the TRUE test labels\n",
    "accuracy = accuracy_score(y_test, y_pred)\n",
    "print(f\"Model accuracy on unseen test data: {accuracy * 100:.2f}%\")"
   ]
  }
 ],
 "metadata": {
  "kernelspec": {
   "display_name": "Python 3 (ipykernel)",
   "language": "python",
   "name": "python3"
  },
  "language_info": {
   "codemirror_mode": {
    "name": "ipython",
    "version": 3
   },
   "file_extension": ".py",
   "mimetype": "text/x-python",
   "name": "python",
   "nbconvert_exporter": "python",
   "pygments_lexer": "ipython3",
   "version": "3.13.5"
  }
 },
 "nbformat": 4,
 "nbformat_minor": 5
}
